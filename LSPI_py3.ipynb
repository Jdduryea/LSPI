{
 "cells": [
  {
   "cell_type": "markdown",
   "metadata": {},
   "source": [
    "# This is a notebook for testing my implementation of LSPI"
   ]
  },
  {
   "cell_type": "code",
   "execution_count": 1,
   "metadata": {},
   "outputs": [],
   "source": [
    "import gym\n",
    "import numpy as np\n",
    "import matplotlib.pyplot as plt\n",
    "from tqdm import tqdm\n",
    "import LSPI\n",
    "import basisFunctions\n",
    "%matplotlib inline\n",
    "\n",
    "%load_ext autoreload\n",
    "%autoreload 2"
   ]
  },
  {
   "cell_type": "code",
   "execution_count": 2,
   "metadata": {},
   "outputs": [
    {
     "data": {
      "text/plain": [
       "array([ 0.0454316 ,  0.03600618,  0.04740281, -0.0366423 ])"
      ]
     },
     "execution_count": 2,
     "metadata": {},
     "output_type": "execute_result"
    }
   ],
   "source": [
    "env = gym.make(\"CartPole-v0\")\n",
    "#env = gym.make(\"MountainCarContinuous-v0\")\n",
    "#env = gym.make(\"Pendulum-v0\")\n",
    "#env = gym.make(\"NChain-v0\")\n",
    "#env = gym.make(\"Acrobot-v1\")\n",
    "\n",
    "#env = gym.make(\"FetchReach-v0\")\n",
    "env.reset()"
   ]
  },
  {
   "cell_type": "markdown",
   "metadata": {},
   "source": [
    "# Cartpole experiments"
   ]
  },
  {
   "cell_type": "code",
   "execution_count": 8,
   "metadata": {},
   "outputs": [
    {
     "name": "stdout",
     "output_type": "stream",
     "text": [
      "[-0.04489524 -0.01667473  0.01910064  0.02615796]\n",
      "19.302047059742335\n",
      "19.346245218618606\n",
      "19.516971531894228\n",
      "19.524234405371317\n",
      "19.523901340117845\n",
      "[19.52390115 -0.13103831  1.56487374 -0.163618   -0.03657343  1.55677825\n",
      "  0.04023806]\n"
     ]
    }
   ],
   "source": [
    "bfs = basisFunctions.get_cartpole_basis_functions_v2()\n",
    "#bfs = get_double_pend_features()\n",
    "#bfs = get_continuous_mt_car_basis_functions()\n",
    "#bfs = get_non_linear_mt_car_basis_functions()\n",
    "\n",
    "gamma = 0.95\n",
    "epsilon = 0.01\n",
    "k = len(bfs) # the number of basis functions will be the size of parameter vector w\n",
    "\n",
    "w = np.zeros(k)\n",
    "w_est, w0 = LSPI.LSPI(bfs, gamma, epsilon, w, env, method = \"discrete\", n_timestep_samples=6)\n",
    "print (w_est)\n"
   ]
  },
  {
   "cell_type": "code",
   "execution_count": 9,
   "metadata": {},
   "outputs": [
    {
     "ename": "SyntaxError",
     "evalue": "Missing parentheses in call to 'print'. Did you mean print(\"--------\")? (<ipython-input-9-1867d5599531>, line 5)",
     "output_type": "error",
     "traceback": [
      "\u001b[0;36m  File \u001b[0;32m\"<ipython-input-9-1867d5599531>\"\u001b[0;36m, line \u001b[0;32m5\u001b[0m\n\u001b[0;31m    print \"--------\"\u001b[0m\n\u001b[0m                   ^\u001b[0m\n\u001b[0;31mSyntaxError\u001b[0m\u001b[0;31m:\u001b[0m Missing parentheses in call to 'print'. Did you mean print(\"--------\")?\n"
     ]
    }
   ],
   "source": [
    "method = \"discrete\"\n",
    "num_steps = []\n",
    "for i_episode in range(100):\n",
    "    observation = env.reset()\n",
    "    print \"--------\"\n",
    "    t = 0\n",
    "    actions = []\n",
    "    while True:\n",
    "        t+=1\n",
    "        env.render()\n",
    "        action = get_policy_action(env.env.state, w_est, bfs, env, method = method)\n",
    "        #action = env.action_space.sample()\n",
    "        #print type(action)\n",
    "        #actions.append([action])\n",
    "        if method == \"continuous\":\n",
    "            action = [action[0]]\n",
    "        #print action\n",
    "        observation, reward, done, info = env.step(action)\n",
    "        #print observation\n",
    "        if done:\n",
    "            print (\"reward:\",reward)\n",
    "            num_steps.append(t)\n",
    "            print(\"Episode finished after {} timesteps\".format(t+1))\n",
    "            break"
   ]
  },
  {
   "cell_type": "code",
   "execution_count": null,
   "metadata": {},
   "outputs": [],
   "source": []
  }
 ],
 "metadata": {
  "kernelspec": {
   "display_name": "Python 3",
   "language": "python",
   "name": "python3"
  },
  "language_info": {
   "codemirror_mode": {
    "name": "ipython",
    "version": 3
   },
   "file_extension": ".py",
   "mimetype": "text/x-python",
   "name": "python",
   "nbconvert_exporter": "python",
   "pygments_lexer": "ipython3",
   "version": "3.7.1"
  }
 },
 "nbformat": 4,
 "nbformat_minor": 2
}
