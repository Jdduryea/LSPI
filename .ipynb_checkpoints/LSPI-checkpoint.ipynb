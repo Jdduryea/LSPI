{
 "cells": [
  {
   "cell_type": "markdown",
   "metadata": {
    "collapsed": true
   },
   "source": [
    "# This is a notebook for testing my implementation of LSPI"
   ]
  },
  {
   "cell_type": "code",
   "execution_count": null,
   "metadata": {
    "collapsed": true
   },
   "outputs": [],
   "source": [
    "# Messing around with OpenAI Gym"
   ]
  },
  {
   "cell_type": "code",
   "execution_count": 2,
   "metadata": {},
   "outputs": [
    {
     "data": {
      "text/plain": [
       "array([-0.00710112,  0.02362306, -0.02358237,  0.01782232])"
      ]
     },
     "execution_count": 2,
     "metadata": {},
     "output_type": "execute_result"
    }
   ],
   "source": [
    "import gym\n",
    "import numpy as np\n",
    "env = gym.make('CartPole-v0')\n",
    "env.reset()\n"
   ]
  },
  {
   "cell_type": "code",
   "execution_count": 3,
   "metadata": {},
   "outputs": [
    {
     "name": "stderr",
     "output_type": "stream",
     "text": [
      "No handlers could be found for logger \"gym.envs.classic_control.cartpole\"\n"
     ]
    }
   ],
   "source": [
    "for _ in range(100):\n",
    "    env.render()\n",
    "    #env.step(env.action_space.sample()) # take a random action\n",
    "    env.step(0)"
   ]
  },
  {
   "cell_type": "code",
   "execution_count": 2,
   "metadata": {},
   "outputs": [
    {
     "data": {
      "text/plain": [
       "array([ 0.04029155,  0.006834  , -0.01659412,  0.00514427])"
      ]
     },
     "execution_count": 2,
     "metadata": {},
     "output_type": "execute_result"
    }
   ],
   "source": [
    "env.reset()"
   ]
  },
  {
   "cell_type": "code",
   "execution_count": 29,
   "metadata": {},
   "outputs": [
    {
     "data": {
      "text/plain": [
       "0"
      ]
     },
     "execution_count": 29,
     "metadata": {},
     "output_type": "execute_result"
    }
   ],
   "source": [
    "env.action_space.sample()"
   ]
  },
  {
   "cell_type": "code",
   "execution_count": 7,
   "metadata": {},
   "outputs": [
    {
     "data": {
      "text/plain": [
       "Box(4,)"
      ]
     },
     "execution_count": 7,
     "metadata": {},
     "output_type": "execute_result"
    }
   ],
   "source": [
    "env.observation_space"
   ]
  },
  {
   "cell_type": "code",
   "execution_count": 24,
   "metadata": {},
   "outputs": [
    {
     "data": {
      "text/plain": [
       "(array([ 0.15534137,  0.40782107, -0.19749603, -0.83199806]), 1.0, False, {})"
      ]
     },
     "execution_count": 24,
     "metadata": {},
     "output_type": "execute_result"
    }
   ],
   "source": [
    "env.step(env.action_space.sample())"
   ]
  },
  {
   "cell_type": "markdown",
   "metadata": {
    "collapsed": true
   },
   "source": [
    "# Implementation"
   ]
  },
  {
   "cell_type": "code",
   "execution_count": 45,
   "metadata": {
    "collapsed": true
   },
   "outputs": [],
   "source": [
    "def LSPI(samples, basis_functions, gamma, epsilon, w):\n",
    "    '''\n",
    "    Compute the parameters of the policy, w, using the LSPI algorithm.\n",
    "    \n",
    "    Inputs:\n",
    "    sample: list of tuples of the form (s,a,r,s')\n",
    "    basis_functions: list of basis functions\n",
    "    gamma: float, discount factor\n",
    "    epsilon: float, convergence threshold\n",
    "    w: intial policy parameter vector\n",
    "    \n",
    "    Outputs:\n",
    "    w: the converged policy paramters\n",
    "    '''\n",
    "    \n",
    "    w_prev = w\n",
    "    while True:\n",
    "        w = LSTDQ_OPT(samples, basis_functions, gamma, w)\n",
    "        if converged(w, w_prev, epsilon):\n",
    "            break \n",
    "        else:\n",
    "            w_prev = w\n",
    "    \n",
    "    return w\n",
    "\n",
    "def converged(w, w_prev, epsilon, sigma = 0.1):\n",
    "    '''\n",
    "    Determines if the policy parameters have converged based\n",
    "    on whether or not the norm of the difference of w\n",
    "    is less than the threshold epsilon.\n",
    "    \n",
    "    Inputs:\n",
    "    w: a policy parameter vector\n",
    "    w_prev: the policy parameter vetor from a previous iteration.\n",
    "    epsilon: float, convergence threshold\n",
    "    '''\n",
    "    return np.linalg.norm(w-w_prev) < epsilon\n",
    "\n",
    "def LSTDQ(samples, basis_functions, gamma, w):\n",
    "    '''\n",
    "    Simple version of LSTDQ\n",
    "    '''\n",
    "    k = len(basis_functions)\n",
    "#    A = np.zeros((k,k)), this might not have an inverse, use the next line instead\n",
    "    A = np.identity(k) * 0.1\n",
    "    b = np.zeros(k)\n",
    "\n",
    "    for s, a, r, sp in samples:\n",
    "        \n",
    "        phi = compute_phi(s,a, basis_functions)\n",
    "        phi_p = compute_phi(sp, get_policy_action(sp, w), basis_functions)\n",
    "        \n",
    "        A = A + phi*(phi - gamma*phi_p).T\n",
    "        b = b + phi*r\n",
    "    \n",
    "    w = np.linalg.inv(A)*b\n",
    "    return w\n",
    "    \n",
    "    \n",
    "\n",
    "    \n",
    "    \n",
    "def LSTDQ_OPT(samples, basis_functions, gamma, w, sigma=0.1):\n",
    "    '''\n",
    "    Computes an approximation of the policy parameters based\n",
    "    on the LSTDQ-OPT algorithm presented in the paper.\n",
    "    \n",
    "    Inputs:\n",
    "    sample: list of tuples of the form (s,a,r,s')\n",
    "    basis_functions: list of basis functions\n",
    "    gamma: float, discount factor\n",
    "    epsilon: float, convergence threshold\n",
    "    w: intial policy parameter vector\n",
    "    \n",
    "     sigma: small positive float.\n",
    "    '''\n",
    "    pass\n",
    "       \n",
    "\n",
    "def compute_phi(s,a, basis_functions):\n",
    "    '''\n",
    "    Computes the vector ϕ(s,a) according to the basis function ϕ_1...ϕ_k\n",
    "    \n",
    "    Inputs:\n",
    "    s: state\n",
    "    a: action\n",
    "    basis_functions: list of basis functions that operate on s and a\n",
    "    \n",
    "    Outputs:\n",
    "    ϕ(s,a), a vector where each entry is the result of one of the basis functions.\n",
    "    '''\n",
    "    return np.array([bf(s,a) for bf in basis_functions])\n",
    "    \n",
    "def get_policy_action(s, w, action_space):\n",
    "    '''\n",
    "    Given a parameterization for the policy,\n",
    "    reconstruct the policy and querery it to get \n",
    "    the optimal action for state s. That is,\n",
    "    the argmax over actions of ϕ(s,a).w\n",
    "    \n",
    "    Inputs:\n",
    "    s: state\n",
    "    w: policy parameters\n",
    "    action_space: set of all possible actions\n",
    "    \n",
    "    Outputs:\n",
    "    action a that the policy says is best\n",
    "    '''\n",
    "    a_max = None\n",
    "    max_score = float(\"-inf\")\n",
    "    \n",
    "    # Search action space for most valuable action\n",
    "    for a in action_space:\n",
    "        score = np.dot(compute_phi(s,a), w)\n",
    "        # update if we found something better\n",
    "        if score > max_score:\n",
    "            max_score = score\n",
    "            a_max = a\n",
    "    \n",
    "    return a_max\n",
    "    \n"
   ]
  },
  {
   "cell_type": "code",
   "execution_count": null,
   "metadata": {
    "collapsed": true
   },
   "outputs": [],
   "source": []
  },
  {
   "cell_type": "code",
   "execution_count": null,
   "metadata": {
    "collapsed": true
   },
   "outputs": [],
   "source": []
  },
  {
   "cell_type": "code",
   "execution_count": 52,
   "metadata": {},
   "outputs": [
    {
     "data": {
      "text/plain": [
       "32"
      ]
     },
     "execution_count": 52,
     "metadata": {},
     "output_type": "execute_result"
    }
   ],
   "source": [
    "x = np.array([1,2,3])\n",
    "y = np.array([4,5,6])\n",
    "np.dot(x.T,y)"
   ]
  },
  {
   "cell_type": "code",
   "execution_count": 23,
   "metadata": {},
   "outputs": [
    {
     "name": "stdout",
     "output_type": "stream",
     "text": [
      "1 2 3\n",
      "4 5 6\n"
     ]
    }
   ],
   "source": [
    "x = [(1,2,3), (4,5,6)]\n",
    "for a,b,c in x:\n",
    "    print a,b,c"
   ]
  },
  {
   "cell_type": "code",
   "execution_count": 43,
   "metadata": {},
   "outputs": [],
   "source": [
    "basis_1 = lambda s,a: s+a\n",
    "basis_2 = lambda s,a: s*a\n",
    "basis_3 = lambda s,a: s**a\n",
    "\n",
    "bfs = [basis_1, basis_2, basis_3]"
   ]
  },
  {
   "cell_type": "code",
   "execution_count": 44,
   "metadata": {},
   "outputs": [
    {
     "data": {
      "text/plain": [
       "array([   9,   20, 1024])"
      ]
     },
     "execution_count": 44,
     "metadata": {},
     "output_type": "execute_result"
    }
   ],
   "source": [
    "compute_phi(4,5, bfs)"
   ]
  },
  {
   "cell_type": "code",
   "execution_count": null,
   "metadata": {
    "collapsed": true
   },
   "outputs": [],
   "source": []
  }
 ],
 "metadata": {
  "kernelspec": {
   "display_name": "Python 2",
   "language": "python",
   "name": "python2"
  },
  "language_info": {
   "codemirror_mode": {
    "name": "ipython",
    "version": 2
   },
   "file_extension": ".py",
   "mimetype": "text/x-python",
   "name": "python",
   "nbconvert_exporter": "python",
   "pygments_lexer": "ipython2",
   "version": "2.7.13"
  }
 },
 "nbformat": 4,
 "nbformat_minor": 2
}
