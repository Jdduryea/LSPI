{
 "cells": [
  {
   "cell_type": "markdown",
   "metadata": {
    "collapsed": true
   },
   "source": [
    "# This is a notebook for testing my implementation of LSPI"
   ]
  },
  {
   "cell_type": "code",
   "execution_count": 1,
   "metadata": {
    "collapsed": true
   },
   "outputs": [],
   "source": [
    "import gym\n",
    "import numpy as np\n",
    "import matplotlib.pyplot as plt\n",
    "from tqdm import tqdm\n",
    "%matplotlib inline\n",
    "\n"
   ]
  },
  {
   "cell_type": "code",
   "execution_count": 2,
   "metadata": {},
   "outputs": [
    {
     "data": {
      "text/plain": [
       "array([-0.01889356, -0.03887042, -0.01519252,  0.01319667])"
      ]
     },
     "execution_count": 2,
     "metadata": {},
     "output_type": "execute_result"
    }
   ],
   "source": [
    "env = gym.make('CartPole-v0')\n",
    "#env = gym.make(\"NChain-v0\")\n",
    "env.reset()"
   ]
  },
  {
   "cell_type": "code",
   "execution_count": 3,
   "metadata": {},
   "outputs": [
    {
     "data": {
      "text/plain": [
       "array([  4.68609638e-01,   1.46450285e+38,   8.60908446e-02,\n",
       "         3.05459097e+37])"
      ]
     },
     "execution_count": 3,
     "metadata": {},
     "output_type": "execute_result"
    }
   ],
   "source": [
    "env.observation_space.sample()"
   ]
  },
  {
   "cell_type": "markdown",
   "metadata": {
    "collapsed": true
   },
   "source": [
    "# Implementation"
   ]
  },
  {
   "cell_type": "code",
   "execution_count": 41,
   "metadata": {
    "collapsed": true
   },
   "outputs": [],
   "source": [
    "def LSPI(basis_functions, gamma, epsilon, w):\n",
    "    '''\n",
    "    Compute the parameters of the policy, w, using the LSPI algorithm.\n",
    "    \n",
    "    Inputs:\n",
    "    sample: list of tuples of the form (s,a,r,s')\n",
    "    basis_functions: list of basis functions\n",
    "    gamma: float, discount factor\n",
    "    epsilon: float, convergence threshold\n",
    "    w: intial policy parameter vector\n",
    "    \n",
    "    Outputs:\n",
    "    w: the converged policy paramters\n",
    "    '''\n",
    "    w0 = []\n",
    "    samples = generate_samples(1000, 6)\n",
    "    #while True:\n",
    "    for i in tqdm(range(100)):\n",
    "        w_prev = w\n",
    "        #w = LSTDQ(samples, basis_functions, gamma, w)\n",
    "        w = LSTDQ_OPT(samples, basis_functions, gamma, w)\n",
    "        \n",
    "        \n",
    "        if converged(w, w_prev, epsilon):\n",
    "            break \n",
    "        else:\n",
    "            w_prev = w\n",
    "        w0.append(w[0])\n",
    "        #print w\n",
    "    return w, w0\n",
    "\n",
    "def converged(w, w_prev, epsilon):\n",
    "    '''\n",
    "    Determines if the policy parameters have converged based\n",
    "    on whether or not the norm of the difference of w\n",
    "    is less than the threshold epsilon.\n",
    "    \n",
    "    Inputs:\n",
    "    w: a policy parameter vector\n",
    "    w_prev: the policy parameter vetor from a previous iteration.\n",
    "    epsilon: float, convergence threshold\n",
    "    '''\n",
    "    return np.linalg.norm(w - w_prev) < epsilon\n",
    "\n",
    "def LSTDQ(samples, basis_functions, gamma, w):\n",
    "    '''\n",
    "    Simple version of LSTDQ\n",
    "    '''\n",
    "    k = len(basis_functions)\n",
    "    #A = np.zeros((k,k)), this might not have an inverse, use the next line instead\n",
    "    A = np.identity(k) * 0.01\n",
    "    b = np.zeros(k)\n",
    "    \n",
    "    #samples[np.random.choice(len(samples), 100, replace=False)]\n",
    "    \n",
    "    for s, a, r, sp in samples:\n",
    "        phi = compute_phi(s,a, basis_functions)\n",
    "        phi_p = compute_phi(sp, get_policy_action(sp, w, basis_functions), basis_functions)\n",
    "\n",
    "        A += np.outer(phi, (phi - gamma*phi_p))\n",
    "        b = b + phi*r\n",
    "    \n",
    "    \n",
    "    w = np.dot(np.linalg.inv(A),b)\n",
    "    return w\n",
    "    \n",
    "    \n",
    "\n",
    "    \n",
    "    \n",
    "def LSTDQ_OPT(samples, basis_functions, gamma, w, sigma=0.1):\n",
    "    '''\n",
    "    Computes an approximation of the policy parameters based\n",
    "    on the LSTDQ-OPT algorithm presented in the paper.\n",
    "    \n",
    "    Inputs:\n",
    "    sample: list of tuples of the form (s,a,r,s')\n",
    "    basis_functions: list of basis functions\n",
    "    gamma: float, discount factor\n",
    "    epsilon: float, convergence threshold\n",
    "    w: intial policy parameter vector\n",
    "    \n",
    "     sigma: small positive float.\n",
    "    '''\n",
    "    k = len(basis_functions)\n",
    "    B = np.identity(k) * float(1/sigma)\n",
    "    b = np.zeros(k)\n",
    "    \n",
    "    for s, a, r, sp in samples:\n",
    "        phi = compute_phi(s,a, basis_functions)\n",
    "        phi_p = compute_phi(sp, get_policy_action(sp, w, basis_functions), basis_functions)\n",
    "\n",
    "        # Some computations that can be reused in the computation\n",
    "        Bphi = np.dot(B, phi)\n",
    "        phi_t =  (phi - gamma*phi_p).T\n",
    "        \n",
    "\n",
    "        top = np.dot(np.outer(Bphi, phi_t), B)\n",
    "        bottom = 1 + np.dot(phi_t, Bphi)\n",
    "        B = B - top/bottom\n",
    "        \n",
    "        b = b + phi*r\n",
    "    \n",
    "    w = np.dot(B,b)\n",
    "        \n",
    "        \n",
    "    return w\n",
    "       \n",
    "\n",
    "def compute_phi(s,a, basis_functions):\n",
    "    '''\n",
    "    Computes the vector ϕ(s,a) according to the basis function ϕ_1...ϕ_k\n",
    "    \n",
    "    Inputs:\n",
    "    s: state\n",
    "    a: action\n",
    "    basis_functions: list of basis functions that operate on s and a\n",
    "    \n",
    "    Outputs:\n",
    "    ϕ(s,a), a vector where each entry is the result of one of the basis functions.\n",
    "    '''\n",
    "    phi= np.array([bf(s,a) for bf in basis_functions])\n",
    "    return phi\n",
    "    \n",
    "def get_policy_action(s, w, basis_functions):\n",
    "    '''\n",
    "    Given a parameterization for the policy,\n",
    "    reconstruct the policy and querery it to get \n",
    "    the optimal action for state s. That is,\n",
    "    the argmax over actions of ϕ(s,a).w\n",
    "    \n",
    "    Inputs:\n",
    "    s: state\n",
    "    w: policy parameters\n",
    "    action_space: set of all possible actions\n",
    "    \n",
    "    Outputs:\n",
    "    action a that the policy says is best\n",
    "    '''\n",
    "    a_max = None\n",
    "    max_score = float(\"-inf\")\n",
    "    \n",
    "    # TODO: don't hard code action space\n",
    "    action_space = [0,1]\n",
    "    \n",
    "    # Search action space for most valuable action\n",
    "    for a in action_space:\n",
    "        #print \"phi:\", compute_phi(s,a, basis_functions)\n",
    "        #print \"w:\",w\n",
    "        score = np.dot(compute_phi(s,a, basis_functions), w)\n",
    "        # update if we found something better\n",
    "        if score > max_score:\n",
    "            max_score = score\n",
    "            a_max = a\n",
    "    #print \"best score:\",max_score\n",
    "    return a_max\n",
    "    \n",
    "\n",
    "def get_basis_functions():\n",
    "    '''\n",
    "    Define some basis functions and return them in a list\n",
    "    '''\n",
    "    bfs = []\n",
    "    random_points = []\n",
    "\n",
    "    # Environment bounds\n",
    "    #high: [  4.80000000e+00   3.40282347e+38   4.18879020e-01   3.40282347e+38]\n",
    "    #low:  [ -4.80000000e+00  -3.40282347e+38  -4.18879020e-01  -3.40282347e+38]\n",
    "\n",
    "    s1 = np.array([1,1,1,1])\n",
    "    s2 = np.array([0,0,0,0])\n",
    "    s3 = np.array([1,0,1,0])\n",
    "    s4 = np.array([-1,-1,0,-1])\n",
    "    s5 = np.array([-1 ,1, 0, 1])\n",
    "    s6 = np.array([1 ,- 1, 0, 1])\n",
    "    s7 = np.array([1 , 0, 0, -1])\n",
    "\n",
    "    e = 1\n",
    "    s1 = np.array([0,0,0,0])\n",
    "    s2 = np.array([0.5,0,0,0])\n",
    "    s3 = np.array([1,0,0,0])\n",
    "    s4 = np.array([1.5,0,0,0])\n",
    "    s5 = np.array([2,0,0,0])\n",
    "    s6 = np.array([-0.5,0,0,0])\n",
    "    s7 = np.array([-1.0,0,0,0])\n",
    "    s8 = np.array([-1.5,0,0,0])\n",
    "    s9 = np.array([-2.0,0,0,0])\n",
    "    \n",
    "    s10 = np.array([0,-1,0,0])\n",
    "    s11 = np.array([0,-0.5,0,0])\n",
    "    s12 = np.array([0,0.5,0,0])\n",
    "    s13 = np.array([0,1,0,0])\n",
    "    s14 = np.array([0,0,0,-1])\n",
    "    s15 = np.array([0,0,0,-0.5])\n",
    "    s16 = np.array([0,0,0,0.5])\n",
    "    \n",
    "   \n",
    "    \n",
    "    \n",
    "    bf1 = lambda s,a: 1\n",
    "    \n",
    "#     bf2 = lambda s,a: int(a==0)*np.exp( - np.linalg.norm(s-s1)/2.0)\n",
    "#     bf3 = lambda s,a: int(a==1)*np.exp( - np.linalg.norm(s-s1)/2.0)\n",
    "\n",
    "#     bf4 = lambda s,a: int(a==0)*np.exp( - np.linalg.norm(s-s2)/2.0)\n",
    "#     bf5 = lambda s,a: int(a==1)*np.exp( - np.linalg.norm(s-s2)/2.0)\n",
    "\n",
    "#     bf6 = lambda s,a: int(a==0)*np.exp( - np.linalg.norm(s-s3)/2.0)\n",
    "#     bf7 = lambda s,a: int(a==1)*np.exp( - np.linalg.norm(s-s3)/2.0)\n",
    "    \n",
    "#     bf8 = lambda s,a: int(a==0)*np.exp( - np.linalg.norm(s-s4)/2.0)\n",
    "#     bf9 = lambda s,a: int(a==1)*np.exp( - np.linalg.norm(s-s4)/2.0)\n",
    "    \n",
    "#     bf10 = lambda s,a: int(a==0)*np.exp( - np.linalg.norm(s-s5)/2.0)\n",
    "#     bf11 = lambda s,a: int(a==1)*np.exp( - np.linalg.norm(s-s5)/2.0)\n",
    "    \n",
    "#     bf12 = lambda s,a: int(a==0)*np.exp( - np.linalg.norm(s-s6)/2.0)\n",
    "#     bf13 = lambda s,a: int(a==1)*np.exp( - np.linalg.norm(s-s6)/2.0)\n",
    "    \n",
    "#     bf14 = lambda s,a: int(a==0)*np.exp( - np.linalg.norm(s-s7)/2.0)\n",
    "#     bf15 = lambda s,a: int(a==1)*np.exp( - np.linalg.norm(s-s7)/2.0)\n",
    "    \n",
    "#     bf16 = lambda s,a: int(a==0)*np.exp( - np.linalg.norm(s-s8)/2.0)\n",
    "#     bf17 = lambda s,a: int(a==1)*np.exp( - np.linalg.norm(s-s8)/2.0)\n",
    "    \n",
    "#     bf18 = lambda s,a: int(a==0)*np.exp( - np.linalg.norm(s-s9)/2.0)\n",
    "#     bf19 = lambda s,a: int(a==1)*np.exp( - np.linalg.norm(s-s9)/2.0)\n",
    "    \n",
    "#     bf20 = lambda s,a: int(a==0)*np.exp( - np.linalg.norm(s-s10)/2.0)\n",
    "#     bf21 = lambda s,a: int(a==1)*np.exp( - np.linalg.norm(s-s10)/2.0)\n",
    "    \n",
    "#     bf22 = lambda s,a: int(a==0)*np.exp( - np.linalg.norm(s-s11)/2.0)\n",
    "#     bf23 = lambda s,a: int(a==1)*np.exp( - np.linalg.norm(s-s11)/2.0)\n",
    "    \n",
    "#     bf24 = lambda s,a: int(a==0)*np.exp( - np.linalg.norm(s-s12)/2.0)\n",
    "#     bf25 = lambda s,a: int(a==1)*np.exp( - np.linalg.norm(s-s12)/2.0)\n",
    "    \n",
    "#     bf26 = lambda s,a: int(a==0)*np.exp( - np.linalg.norm(s-s13)/2.0)\n",
    "#     bf27 = lambda s,a: int(a==1)*np.exp( - np.linalg.norm(s-s13)/2.0)\n",
    "    \n",
    "#     bf28 = lambda s,a: int(a==0)*np.exp( - np.linalg.norm(s-s14)/2.0)\n",
    "#     bf29 = lambda s,a: int(a==1)*np.exp( - np.linalg.norm(s-s14)/2.0)\n",
    "    \n",
    "#     bf30 = lambda s,a: int(a==0)*np.exp( - np.linalg.norm(s-s15)/2.0)\n",
    "#     bf31 = lambda s,a: int(a==1)*np.exp( - np.linalg.norm(s-s15)/2.0)\n",
    "    \n",
    "#     bf32 = lambda s,a: int(a==0)*np.exp( - np.linalg.norm(s-s16)/2.0)\n",
    "#     bf33 = lambda s,a: int(a==1)*np.exp( - np.linalg.norm(s-s16)/2.0)\n",
    "    \n",
    "    \n",
    "    \n",
    "    bf2 = lambda s,a: np.linalg.norm(s)*a\n",
    "    \n",
    "#     bf6 = lambda s,a: int(a==1)*np.exp( - np.linalg.norm(s-s3)/2.0)\n",
    "#     bf7 = lambda s,a: int(a==0)*np.exp( - np.linalg.norm(s-s1)/2.0)\n",
    "#    bfs = [bf1,bf2,bf3,bf4,bf5]\n",
    "    #bfs = [bf1,bf2,bf3, bf4, bf5, bf6, bf7]\n",
    "    bfs = [bf1,bf2,bf3,bf4, bf5, bf6, bf7, bf8, bf9, bf10, bf11, bf12, bf13, bf14, bf15, bf16, bf17, bf18, bf19, bf20, bf21, bf22, bf23, bf24, bf25, bf26, bf27, bf28, bf29, bf30, bf31, bf32, bf33]\n",
    "    #bfs = [bf1,bf2,bf3,bf4,bf5, bf6, bf7, bf8,bf9]\n",
    "    return bfs\n",
    "\n",
    "\n",
    "def generate_samples(n_samples, n_steps=100):\n",
    "    samples = []\n",
    "    for i in range(n_samples):\n",
    "        env.reset()\n",
    "        for j in range(n_steps):\n",
    "            s = list(env.env.state)\n",
    "            a = env.action_space.sample()\n",
    "            sp,r, _,_ = env.step(a)\n",
    "            \n",
    "            sample = (s, a, r, sp)\n",
    "            samples.append(sample)\n",
    "\n",
    "    return np.array(samples)\n",
    "    "
   ]
  },
  {
   "cell_type": "code",
   "execution_count": 36,
   "metadata": {},
   "outputs": [
    {
     "data": {
      "text/plain": [
       "array([ 0.,  0.,  0.,  0.])"
      ]
     },
     "execution_count": 36,
     "metadata": {},
     "output_type": "execute_result"
    }
   ],
   "source": [
    "np.zeros(4)"
   ]
  },
  {
   "cell_type": "code",
   "execution_count": 37,
   "metadata": {},
   "outputs": [
    {
     "name": "stdout",
     "output_type": "stream",
     "text": [
      "[  4.80000000e+00   3.40282347e+38   4.18879020e-01   3.40282347e+38]\n",
      "[ -4.80000000e+00  -3.40282347e+38  -4.18879020e-01  -3.40282347e+38]\n"
     ]
    }
   ],
   "source": [
    "print env.observation_space.high\n",
    "print env.observation_space.low"
   ]
  },
  {
   "cell_type": "code",
   "execution_count": 42,
   "metadata": {},
   "outputs": [
    {
     "name": "stderr",
     "output_type": "stream",
     "text": [
      "\n",
      "\n",
      "\n",
      "  0%|          | 0/100 [00:00<?, ?it/s]\u001b[A\u001b[A\u001b[A\n",
      "\n",
      "\n",
      "  1%|          | 1/100 [00:05<09:17,  5.63s/it]\u001b[A\u001b[A\u001b[A\n",
      "\n",
      "\u001b[A\u001b[A\n",
      "\n",
      "\n",
      "  2%|▏         | 2/100 [00:11<09:14,  5.66s/it]\u001b[A\u001b[A\u001b[A\n",
      "\n",
      "\n",
      "  3%|▎         | 3/100 [00:17<09:08,  5.66s/it]\u001b[A\u001b[A\u001b[A\n",
      "\n",
      "\n",
      "  4%|▍         | 4/100 [00:22<09:00,  5.63s/it]\u001b[A\u001b[A\u001b[A\n",
      "\n",
      "\n",
      "  5%|▌         | 5/100 [00:28<08:57,  5.65s/it]\u001b[A\u001b[A\u001b[A\n",
      "\n",
      "\n",
      "  6%|▌         | 6/100 [00:33<08:50,  5.64s/it]\u001b[A\u001b[A\u001b[A"
     ]
    },
    {
     "name": "stdout",
     "output_type": "stream",
     "text": [
      "[  1.88178785e+01  -1.99524465e-01  -7.27108397e-02  -7.17740177e-02\n",
      "  -1.04084718e-01   3.29118052e-01   4.98290523e-01   8.25841331e-01\n",
      "   8.98056594e-01   1.07680239e+00   1.03446199e+00   2.43200513e-02\n",
      "  -2.00058105e-01   3.23105332e-01   4.93524852e-01   7.37359945e-01\n",
      "   9.75924092e-01   9.52117422e-01   1.14881235e+00   2.41693888e-01\n",
      "   1.29005520e+00   3.44590572e-01  -5.34880161e-01  -7.68789558e-01\n",
      "  -3.21700585e-01   2.66612681e-01  -3.05669511e-02   1.07036747e+00\n",
      "   7.56939880e-02  -6.15385743e-01   1.76370039e-03  -3.77606429e-01\n",
      "  -7.49341570e-01]\n"
     ]
    }
   ],
   "source": [
    "bfs = get_basis_functions()\n",
    "\n",
    "\n",
    "gamma, epsilon, k = 0.95, 0.001, len(bfs)\n",
    "w = np.zeros(k)\n",
    "w_est, w0 = LSPI(bfs, gamma, epsilon, w)\n",
    "print w_est\n",
    "\n"
   ]
  },
  {
   "cell_type": "code",
   "execution_count": 43,
   "metadata": {},
   "outputs": [
    {
     "data": {
      "text/plain": [
       "[<matplotlib.lines.Line2D at 0x10c9a6110>]"
      ]
     },
     "execution_count": 43,
     "metadata": {},
     "output_type": "execute_result"
    },
    {
     "data": {
      "image/png": "[encoded data removed]",
      "text/plain": [
       "<matplotlib.figure.Figure at 0x10c4b0590>"
      ]
     },
     "metadata": {},
     "output_type": "display_data"
    }
   ],
   "source": [
    "plt.plot(w0)"
   ]
  },
  {
   "cell_type": "code",
   "execution_count": 45,
   "metadata": {},
   "outputs": [
    {
     "name": "stdout",
     "output_type": "stream",
     "text": [
      "--------\n",
      "Episode finished after 32 timesteps\n",
      "--------\n",
      "Episode finished after 18 timesteps\n",
      "--------\n",
      "Episode finished after 32 timesteps\n",
      "--------\n",
      "Episode finished after 22 timesteps\n",
      "--------\n",
      "Episode finished after 29 timesteps\n",
      "--------\n",
      "Episode finished after 28 timesteps\n",
      "--------\n",
      "Episode finished after 18 timesteps\n",
      "--------\n",
      "Episode finished after 18 timesteps\n",
      "--------\n",
      "Episode finished after 20 timesteps\n",
      "--------\n",
      "Episode finished after 25 timesteps\n",
      "--------\n",
      "Episode finished after 19 timesteps\n",
      "--------\n",
      "Episode finished after 23 timesteps\n",
      "--------\n",
      "Episode finished after 32 timesteps\n",
      "--------\n",
      "Episode finished after 20 timesteps\n",
      "--------\n",
      "Episode finished after 21 timesteps\n",
      "--------\n",
      "Episode finished after 25 timesteps\n",
      "--------\n",
      "Episode finished after 29 timesteps\n",
      "--------\n",
      "Episode finished after 24 timesteps\n",
      "--------\n",
      "Episode finished after 27 timesteps\n",
      "--------\n",
      "Episode finished after 19 timesteps\n",
      "--------\n",
      "Episode finished after 19 timesteps\n",
      "--------\n",
      "Episode finished after 22 timesteps\n",
      "--------\n",
      "Episode finished after 27 timesteps\n",
      "--------\n",
      "Episode finished after 28 timesteps\n",
      "--------\n",
      "Episode finished after 19 timesteps\n",
      "--------\n",
      "Episode finished after 20 timesteps\n",
      "--------\n",
      "Episode finished after 19 timesteps\n",
      "--------\n",
      "Episode finished after 23 timesteps\n",
      "--------\n",
      "Episode finished after 32 timesteps\n",
      "--------\n",
      "Episode finished after 25 timesteps\n",
      "--------\n",
      "Episode finished after 26 timesteps\n",
      "--------\n",
      "Episode finished after 22 timesteps\n",
      "--------\n",
      "Episode finished after 22 timesteps\n",
      "--------\n",
      "Episode finished after 21 timesteps\n",
      "--------\n",
      "Episode finished after 29 timesteps\n",
      "--------\n",
      "Episode finished after 21 timesteps\n",
      "--------\n",
      "Episode finished after 17 timesteps\n",
      "--------\n",
      "Episode finished after 19 timesteps\n",
      "--------\n",
      "Episode finished after 23 timesteps\n",
      "--------\n",
      "Episode finished after 22 timesteps\n",
      "--------\n",
      "Episode finished after 19 timesteps\n",
      "--------\n",
      "Episode finished after 23 timesteps\n",
      "--------\n",
      "Episode finished after 19 timesteps\n",
      "--------\n",
      "Episode finished after 22 timesteps\n",
      "--------\n",
      "Episode finished after 21 timesteps\n",
      "--------\n",
      "Episode finished after 22 timesteps\n",
      "--------\n",
      "Episode finished after 19 timesteps\n",
      "--------\n",
      "Episode finished after 28 timesteps\n",
      "--------\n",
      "Episode finished after 22 timesteps\n",
      "--------\n",
      "Episode finished after 18 timesteps\n",
      "--------\n",
      "Episode finished after 21 timesteps\n",
      "--------\n",
      "Episode finished after 18 timesteps\n",
      "--------\n",
      "Episode finished after 25 timesteps\n",
      "--------\n",
      "Episode finished after 27 timesteps\n",
      "--------\n",
      "Episode finished after 21 timesteps\n",
      "--------\n",
      "Episode finished after 26 timesteps\n",
      "--------\n",
      "Episode finished after 27 timesteps\n",
      "--------\n",
      "Episode finished after 18 timesteps\n",
      "--------\n",
      "Episode finished after 18 timesteps\n",
      "--------\n",
      "Episode finished after 21 timesteps\n",
      "--------\n",
      "Episode finished after 23 timesteps\n",
      "--------\n",
      "Episode finished after 18 timesteps\n",
      "--------\n",
      "Episode finished after 21 timesteps\n",
      "--------\n",
      "Episode finished after 29 timesteps\n",
      "--------\n",
      "Episode finished after 25 timesteps\n",
      "--------\n",
      "Episode finished after 20 timesteps\n",
      "--------\n",
      "Episode finished after 26 timesteps\n",
      "--------\n",
      "Episode finished after 18 timesteps\n",
      "--------\n",
      "Episode finished after 27 timesteps\n",
      "--------\n",
      "Episode finished after 28 timesteps\n",
      "--------\n",
      "Episode finished after 23 timesteps\n",
      "--------\n",
      "Episode finished after 25 timesteps\n",
      "--------\n",
      "Episode finished after 19 timesteps\n",
      "--------\n",
      "Episode finished after 30 timesteps\n",
      "--------\n",
      "Episode finished after 20 timesteps\n",
      "--------\n",
      "Episode finished after 23 timesteps\n",
      "--------\n",
      "Episode finished after 20 timesteps\n",
      "--------\n",
      "Episode finished after 29 timesteps\n",
      "--------\n",
      "Episode finished after 22 timesteps\n",
      "--------\n",
      "Episode finished after 24 timesteps\n",
      "--------\n",
      "Episode finished after 26 timesteps\n",
      "--------\n",
      "Episode finished after 24 timesteps\n",
      "--------\n",
      "Episode finished after 23 timesteps\n",
      "--------\n",
      "Episode finished after 23 timesteps\n",
      "--------\n",
      "Episode finished after 24 timesteps\n",
      "--------\n",
      "Episode finished after 26 timesteps\n",
      "--------\n",
      "Episode finished after 22 timesteps\n",
      "--------\n",
      "Episode finished after 22 timesteps\n",
      "--------\n",
      "Episode finished after 21 timesteps\n",
      "--------\n",
      "Episode finished after 25 timesteps\n",
      "--------\n",
      "Episode finished after 29 timesteps\n",
      "--------\n",
      "Episode finished after 30 timesteps\n",
      "--------\n",
      "Episode finished after 25 timesteps\n",
      "--------\n",
      "Episode finished after 26 timesteps\n",
      "--------\n",
      "Episode finished after 29 timesteps\n",
      "--------\n",
      "Episode finished after 28 timesteps\n",
      "--------\n",
      "Episode finished after 18 timesteps\n",
      "--------\n",
      "Episode finished after 20 timesteps\n",
      "--------\n",
      "Episode finished after 23 timesteps\n",
      "--------\n",
      "Episode finished after 23 timesteps\n"
     ]
    }
   ],
   "source": [
    "num_steps = []\n",
    "for i_episode in range(100):\n",
    "    observation = env.reset()\n",
    "    print \"--------\"\n",
    "    t = 0\n",
    "    while True:\n",
    "        t+=1\n",
    "#    for t in range(500):\n",
    "        env.render()\n",
    "        action = get_policy_action(env.env.state, w_est, bfs)\n",
    "        #action = env.action_space.sample()\n",
    "       # print action\n",
    "        observation, reward, done, info = env.step(action)\n",
    "        #print observation\n",
    "        if done:\n",
    "#             print \"reward:\",reward\n",
    "            num_steps.append(t)\n",
    "            print(\"Episode finished after {} timesteps\".format(t+1))\n",
    "            break"
   ]
  },
  {
   "cell_type": "code",
   "execution_count": 8,
   "metadata": {},
   "outputs": [
    {
     "data": {
      "text/plain": [
       "(array([ 26.,  31.,  24.,  10.,   2.,   2.,   3.,   0.,   0.,   2.]),\n",
       " array([  8. ,  13.9,  19.8,  25.7,  31.6,  37.5,  43.4,  49.3,  55.2,\n",
       "         61.1,  67. ]),\n",
       " <a list of 10 Patch objects>)"
      ]
     },
     "execution_count": 8,
     "metadata": {},
     "output_type": "execute_result"
    },
    {
     "data": {
      "image/png": "[encoded data removed]",
      "text/plain": [
       "<matplotlib.figure.Figure at 0x10609d410>"
      ]
     },
     "metadata": {},
     "output_type": "display_data"
    }
   ],
   "source": [
    "plt.hist(num_steps)"
   ]
  },
  {
   "cell_type": "code",
   "execution_count": 43,
   "metadata": {},
   "outputs": [
    {
     "data": {
      "text/plain": [
       "(array([  9.,   2.,  10.,  24.,  24.,   8.,  10.,   9.,   2.,   2.]),\n",
       " array([  48. ,   58.5,   69. ,   79.5,   90. ,  100.5,  111. ,  121.5,\n",
       "         132. ,  142.5,  153. ]),\n",
       " <a list of 10 Patch objects>)"
      ]
     },
     "execution_count": 43,
     "metadata": {},
     "output_type": "execute_result"
    },
    {
     "data": {
      "image/png": "[encoded data removed]",
      "text/plain": [
       "<matplotlib.figure.Figure at 0x10d903b90>"
      ]
     },
     "metadata": {},
     "output_type": "display_data"
    }
   ],
   "source": [
    "plt.hist(num_steps)"
   ]
  },
  {
   "cell_type": "code",
   "execution_count": null,
   "metadata": {
    "collapsed": true
   },
   "outputs": [],
   "source": []
  }
 ],
 "metadata": {
  "kernelspec": {
   "display_name": "Python 2",
   "language": "python",
   "name": "python2"
  },
  "language_info": {
   "codemirror_mode": {
    "name": "ipython",
    "version": 2
   },
   "file_extension": ".py",
   "mimetype": "text/x-python",
   "name": "python",
   "nbconvert_exporter": "python",
   "pygments_lexer": "ipython2",
   "version": "2.7.13"
  }
 },
 "nbformat": 4,
 "nbformat_minor": 2
}
