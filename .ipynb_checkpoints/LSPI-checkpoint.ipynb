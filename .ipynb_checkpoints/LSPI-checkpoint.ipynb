{
 "cells": [
  {
   "cell_type": "markdown",
   "metadata": {
    "collapsed": true
   },
   "source": [
    "# This is a notebook for testing my implementation of LSPI"
   ]
  },
  {
   "cell_type": "code",
   "execution_count": null,
   "metadata": {
    "collapsed": true
   },
   "outputs": [],
   "source": [
    "# Messing around with OpenAI Gym"
   ]
  },
  {
   "cell_type": "code",
   "execution_count": 2,
   "metadata": {},
   "outputs": [],
   "source": [
    "import gym\n",
    "import numpy as np\n",
    "import matplotlib.pyplot as plt\n",
    "%matplotlib inline\n",
    "\n"
   ]
  },
  {
   "cell_type": "code",
   "execution_count": 49,
   "metadata": {},
   "outputs": [
    {
     "data": {
      "text/plain": [
       "array([ 0.00663644,  0.00141114, -0.04101978,  0.02104077])"
      ]
     },
     "execution_count": 49,
     "metadata": {},
     "output_type": "execute_result"
    }
   ],
   "source": [
    "env = gym.make('CartPole-v0')\n",
    "#env = gym.make(\"NChain-v0\")\n",
    "env.reset()"
   ]
  },
  {
   "cell_type": "code",
   "execution_count": null,
   "metadata": {
    "collapsed": true
   },
   "outputs": [],
   "source": []
  },
  {
   "cell_type": "markdown",
   "metadata": {
    "collapsed": true
   },
   "source": [
    "# Implementation"
   ]
  },
  {
   "cell_type": "code",
   "execution_count": 160,
   "metadata": {},
   "outputs": [],
   "source": [
    "def LSPI(basis_functions, gamma, epsilon, w):\n",
    "    '''\n",
    "    Compute the parameters of the policy, w, using the LSPI algorithm.\n",
    "    \n",
    "    Inputs:\n",
    "    sample: list of tuples of the form (s,a,r,s')\n",
    "    basis_functions: list of basis functions\n",
    "    gamma: float, discount factor\n",
    "    epsilon: float, convergence threshold\n",
    "    w: intial policy parameter vector\n",
    "    \n",
    "    Outputs:\n",
    "    w: the converged policy paramters\n",
    "    '''\n",
    "    \n",
    "    while True:\n",
    "        w_prev = w\n",
    "        w = LSTDQ(basis_functions, gamma, w)\n",
    "        \n",
    "        if converged(w, w_prev, epsilon):\n",
    "            break \n",
    "        else:\n",
    "            w_prev = w\n",
    "      \n",
    "        print w\n",
    "    return w\n",
    "\n",
    "def converged(w, w_prev, epsilon):\n",
    "    '''\n",
    "    Determines if the policy parameters have converged based\n",
    "    on whether or not the norm of the difference of w\n",
    "    is less than the threshold epsilon.\n",
    "    \n",
    "    Inputs:\n",
    "    w: a policy parameter vector\n",
    "    w_prev: the policy parameter vetor from a previous iteration.\n",
    "    epsilon: float, convergence threshold\n",
    "    '''\n",
    "    return np.linalg.norm(w - w_prev) < epsilon\n",
    "\n",
    "def LSTDQ(basis_functions, gamma, w):\n",
    "    '''\n",
    "    Simple version of LSTDQ\n",
    "    '''\n",
    "    k = len(basis_functions)\n",
    "    #A = np.zeros((k,k)), this might not have an inverse, use the next line instead\n",
    "    A = np.identity(k) * 0.01\n",
    "    b = np.zeros(k)\n",
    "    \n",
    "    sub_samples = generate_samples(10)\n",
    "    #samples[np.random.choice(len(samples), 100, replace=False)]\n",
    "    \n",
    "    for s, a, r, sp in sub_samples:\n",
    "        phi = compute_phi(s,a, basis_functions)\n",
    "        phi_p = compute_phi(sp, get_policy_action(sp, w, basis_functions), basis_functions)\n",
    "\n",
    "        A += np.outer(phi, (phi - gamma*phi_p))\n",
    "        b = b + phi*r\n",
    "    \n",
    "    \n",
    "    w = np.dot(np.linalg.inv(A),b)\n",
    "    return w\n",
    "    \n",
    "    \n",
    "\n",
    "    \n",
    "    \n",
    "def LSTDQ_OPT(samples, basis_functions, gamma, w, sigma=0.1):\n",
    "    '''\n",
    "    Computes an approximation of the policy parameters based\n",
    "    on the LSTDQ-OPT algorithm presented in the paper.\n",
    "    \n",
    "    Inputs:\n",
    "    sample: list of tuples of the form (s,a,r,s')\n",
    "    basis_functions: list of basis functions\n",
    "    gamma: float, discount factor\n",
    "    epsilon: float, convergence threshold\n",
    "    w: intial policy parameter vector\n",
    "    \n",
    "     sigma: small positive float.\n",
    "    '''\n",
    "    pass\n",
    "       \n",
    "\n",
    "def compute_phi(s,a, basis_functions):\n",
    "    '''\n",
    "    Computes the vector ϕ(s,a) according to the basis function ϕ_1...ϕ_k\n",
    "    \n",
    "    Inputs:\n",
    "    s: state\n",
    "    a: action\n",
    "    basis_functions: list of basis functions that operate on s and a\n",
    "    \n",
    "    Outputs:\n",
    "    ϕ(s,a), a vector where each entry is the result of one of the basis functions.\n",
    "    '''\n",
    "    phi= np.array([bf(s,a) for bf in basis_functions])\n",
    "    return phi\n",
    "    \n",
    "def get_policy_action(s, w, basis_functions):\n",
    "    '''\n",
    "    Given a parameterization for the policy,\n",
    "    reconstruct the policy and querery it to get \n",
    "    the optimal action for state s. That is,\n",
    "    the argmax over actions of ϕ(s,a).w\n",
    "    \n",
    "    Inputs:\n",
    "    s: state\n",
    "    w: policy parameters\n",
    "    action_space: set of all possible actions\n",
    "    \n",
    "    Outputs:\n",
    "    action a that the policy says is best\n",
    "    '''\n",
    "    a_max = None\n",
    "    max_score = float(\"-inf\")\n",
    "    \n",
    "    # TODO: don't hard code action space\n",
    "    action_space = [0,1]\n",
    "    \n",
    "    # Search action space for most valuable action\n",
    "    for a in action_space:\n",
    "        #print \"phi:\", compute_phi(s,a, basis_functions)\n",
    "        #print \"w:\",w\n",
    "        score = np.dot(compute_phi(s,a, basis_functions), w)\n",
    "        # update if we found something better\n",
    "        if score > max_score:\n",
    "            max_score = score\n",
    "            a_max = a\n",
    "            \n",
    "    return a_max\n",
    "    \n",
    "\n",
    "def get_basis_functions(env, k):\n",
    "    '''\n",
    "    Define some basis functions and return them in a list\n",
    "    '''\n",
    "    bfs = []\n",
    "    random_points = []\n",
    "\n",
    "    s1 = env.observation_space.sample()\n",
    "    s2 = env.observation_space.sample()\n",
    "    s3 = env.observation_space.sample()\n",
    "    s4 = env.observation_space.sample()\n",
    "    \n",
    "    s1 = np.array([1,1,1,1])\n",
    "    s2 = np.array([0,0,0,0])\n",
    "    s3 = np.array([-1,1,0,-1])\n",
    "    \n",
    "    \n",
    "    print \"s1:\",s1\n",
    "    print \"s2:\",s2\n",
    "    bf1 = lambda s,a: 1\n",
    "    bf2 = lambda s,a: np.exp( - np.linalg.norm(s-s1)/2.0)\n",
    "    bf3 = lambda s,a: np.exp( - np.linalg.norm(s-s2)/2.0)\n",
    "    bf4 = lambda s,a: np.exp( - np.linalg.norm(s-s3)/2.0)\n",
    "    bf5 = lambda s,a: np.exp( - np.linalg.norm(s-s3)/2.0)\n",
    "    bf6 = lambda s,a: int(a==0)*np.exp( - np.linalg.norm(s-s3)/2.0)\n",
    "    bf7 = lambda s,a: int(a==1)*np.exp( - np.linalg.norm(s-s1)/2.0)\n",
    "    \n",
    "    bfs = [bf1,bf2,bf3,bf4, bf5, bf6, bf7]\n",
    "    \n",
    "    return bfs\n",
    "\n",
    "\n",
    "def generate_samples(n_samples, n_steps=100):\n",
    "    samples = []\n",
    "    for i in range(n_samples):\n",
    "        env.reset()\n",
    "        for j in range(n_steps):\n",
    "            s = list(env.env.state)\n",
    "            a = env.action_space.sample()\n",
    "            sp,r, _,_ = env.step(a)\n",
    "            \n",
    "            sample = (s, a, r, sp)\n",
    "            samples.append(sample)\n",
    "\n",
    "    return np.array(samples)\n",
    "    "
   ]
  },
  {
   "cell_type": "code",
   "execution_count": 159,
   "metadata": {},
   "outputs": [
    {
     "data": {
      "text/plain": [
       "0.0"
      ]
     },
     "execution_count": 159,
     "metadata": {},
     "output_type": "execute_result"
    }
   ],
   "source": [
    "bfs[2](np.array([10,2,3,4]),10)"
   ]
  },
  {
   "cell_type": "code",
   "execution_count": 161,
   "metadata": {},
   "outputs": [
    {
     "name": "stdout",
     "output_type": "stream",
     "text": [
      "s1: [ -1.79830083e+00  -3.15795228e+38   3.27502208e-03  -2.88198435e+38]\n",
      "s2: [ -2.91864568e+00  -3.14682696e+38   1.34608990e-01  -1.60483486e+38]\n"
     ]
    }
   ],
   "source": [
    "bfs = get_basis_functions(env,10)\n",
    "\n",
    "\n",
    "\n",
    "\n",
    "gamma, epsilon, k = 0.1, 0.00001, len(bfs)\n",
    "w = np.zeros(k)\n",
    "#w_est = LSPI(bfs, gamma, epsilon, w)\n",
    "#print w_est\n",
    "\n"
   ]
  },
  {
   "cell_type": "code",
   "execution_count": 162,
   "metadata": {},
   "outputs": [
    {
     "data": {
      "text/plain": [
       "array([  4.80000000e+00,   3.40282347e+38,   4.18879020e-01,\n",
       "         3.40282347e+38])"
      ]
     },
     "execution_count": 162,
     "metadata": {},
     "output_type": "execute_result"
    }
   ],
   "source": [
    "env.observation_space.high"
   ]
  },
  {
   "cell_type": "code",
   "execution_count": 176,
   "metadata": {},
   "outputs": [
    {
     "data": {
      "text/plain": [
       "array([ 0.02831727,  0.03855601, -0.02611418, -0.04275159])"
      ]
     },
     "execution_count": 176,
     "metadata": {},
     "output_type": "execute_result"
    }
   ],
   "source": [
    "env.reset()"
   ]
  },
  {
   "cell_type": "code",
   "execution_count": null,
   "metadata": {
    "collapsed": true
   },
   "outputs": [],
   "source": []
  }
 ],
 "metadata": {
  "kernelspec": {
   "display_name": "Python 2",
   "language": "python",
   "name": "python2"
  },
  "language_info": {
   "codemirror_mode": {
    "name": "ipython",
    "version": 2
   },
   "file_extension": ".py",
   "mimetype": "text/x-python",
   "name": "python",
   "nbconvert_exporter": "python",
   "pygments_lexer": "ipython2",
   "version": "2.7.13"
  }
 },
 "nbformat": 4,
 "nbformat_minor": 2
}
