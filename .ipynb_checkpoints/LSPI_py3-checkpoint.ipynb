{
 "cells": [
  {
   "cell_type": "markdown",
   "metadata": {},
   "source": [
    "# This is a notebook for testing my implementation of LSPI"
   ]
  },
  {
   "cell_type": "code",
   "execution_count": 1,
   "metadata": {},
   "outputs": [],
   "source": [
    "import gym\n",
    "import numpy as np\n",
    "import matplotlib.pyplot as plt\n",
    "from tqdm import tqdm\n",
    "import LSPI\n",
    "import basisFunctions\n",
    "%matplotlib inline\n",
    "\n",
    "%load_ext autoreload\n",
    "%autoreload 2"
   ]
  },
  {
   "cell_type": "markdown",
   "metadata": {},
   "source": [
    "# Cartpole experiments"
   ]
  },
  {
   "cell_type": "markdown",
   "metadata": {},
   "source": [
    "Notes \n",
    "for cartpole sampling, use:\n",
    "1000 trials with 6 time steps\n",
    "resampling at each iteration seems to have no large impact on the problem  \n",
    "gamma = 0.95  \n",
    "epsilon = 0.01\n"
   ]
  },
  {
   "cell_type": "code",
   "execution_count": 7,
   "metadata": {},
   "outputs": [
    {
     "name": "stdout",
     "output_type": "stream",
     "text": [
      "[ 0.04621836 -0.04659054 -0.0383234  -0.04201802]\n",
      "19.999112705753245\n",
      "19.98391494221708\n",
      "19.993363232950685\n",
      "[ 1.99907300e+01 -1.55294626e-03  1.29227463e-03  5.20710970e-04]\n"
     ]
    }
   ],
   "source": [
    "env = gym.make(\"CartPole-v0\")\n",
    "\n",
    "bfs = basisFunctions.get_cartpole_basis_functions_quadratic_v2()\n",
    "\n",
    "gamma = 0.95\n",
    "epsilon = 0.01\n",
    "k = len(bfs) # the number of basis functions will be the size of parameter vector w\n",
    "\n",
    "w = np.zeros(k)\n",
    "w_est, w0 = LSPI.LSPI(bfs, gamma, epsilon, w, env, method = \"discrete\", n_trial_samples=1000, n_timestep_samples=6)\n",
    "print (w_est)\n"
   ]
  },
  {
   "cell_type": "code",
   "execution_count": 8,
   "metadata": {},
   "outputs": [],
   "source": [
    "w_est = [20, 0,0,0]"
   ]
  },
  {
   "cell_type": "markdown",
   "metadata": {},
   "source": [
    "# MountainCar Experiments"
   ]
  },
  {
   "cell_type": "code",
   "execution_count": null,
   "metadata": {},
   "outputs": [],
   "source": [
    "'''\n",
    "Notes: convergence is weird for get_mt_car_basis_functions_quadratic_v1,\n",
    "the result is oscillating:\n",
    "0.02229830449342507\n",
    "-1.975657115388799\n",
    "-1.9079250600368027\n",
    "-1.9329972236620279\n",
    "-1.9143671003801614\n",
    "-1.9192840196773204\n",
    "-1.9166902435441102\n",
    "\n",
    "\n",
    "'''"
   ]
  },
  {
   "cell_type": "code",
   "execution_count": 6,
   "metadata": {},
   "outputs": [],
   "source": [
    "env = gym.make(\"MountainCarContinuous-v0\")\n"
   ]
  },
  {
   "cell_type": "code",
   "execution_count": 8,
   "metadata": {},
   "outputs": [
    {
     "name": "stdout",
     "output_type": "stream",
     "text": [
      "[-0.52570525  0.        ]\n"
     ]
    },
    {
     "name": "stderr",
     "output_type": "stream",
     "text": [
      "/Users/jackduryea/Desktop/RiceS19/COMP650/LSPI/LSPI.py:253: OptimizeWarning: Unknown solver options: xtol\n",
      "  \n"
     ]
    },
    {
     "name": "stdout",
     "output_type": "stream",
     "text": [
      "0.02229830449342507\n",
      "-1.975657115388799\n",
      "-1.9079250600368027\n",
      "-1.9329972236620279\n",
      "-1.9143671003801614\n",
      "-1.9192840196773204\n",
      "-1.9166902435441102\n",
      "[-1.92010449  0.39804835 -0.24925825 -0.24869455]\n"
     ]
    }
   ],
   "source": [
    "# convergence i \n",
    "bfs = basisFunctions.get_mt_car_basis_functions_quadratic_v1()\n",
    "\n",
    "gamma = 0.95\n",
    "epsilon = 0.05\n",
    "k = len(bfs) # the number of basis functions will be the size of parameter vector w\n",
    "\n",
    "w = np.zeros(k)\n",
    "w_est, w0 = LSPI.LSPI(bfs, gamma, epsilon, w, env, method = \"continuous\", n_trial_samples=1000, n_timestep_samples=20)\n",
    "print (w_est)"
   ]
  },
  {
   "cell_type": "markdown",
   "metadata": {},
   "source": [
    "# Acrobat Experiments"
   ]
  },
  {
   "cell_type": "code",
   "execution_count": 87,
   "metadata": {},
   "outputs": [
    {
     "name": "stdout",
     "output_type": "stream",
     "text": [
      "[ 0.99581231  0.09142119  0.99626057  0.08639957  0.07723624 -0.09899189]\n",
      "-19.999704045169622\n",
      "[ 0.99730579  0.07335645  0.99526066  0.09724309  0.02434384 -0.07645477]\n",
      "[-1.99999109e+01 -6.00120670e-06 -2.85661150e-06  3.03274839e-09]\n"
     ]
    }
   ],
   "source": [
    "\n",
    "bfs = basisFunctions.get_acrobat_basis_functions_quadratic_v1()\n",
    "\n",
    "gamma = 0.95\n",
    "epsilon = 0.05\n",
    "k = len(bfs) # the number of basis functions will be the size of parameter vector w\n",
    "\n",
    "w = np.zeros(k)\n",
    "w_est, w0 = LSPI.LSPI(bfs, gamma, epsilon, w, env, method = \"discrete\", n_trial_samples=10000, n_timestep_samples=20)\n",
    "print (w_est)"
   ]
  },
  {
   "cell_type": "markdown",
   "metadata": {},
   "source": [
    "# Run "
   ]
  },
  {
   "cell_type": "code",
   "execution_count": 9,
   "metadata": {},
   "outputs": [
    {
     "name": "stdout",
     "output_type": "stream",
     "text": [
      "--------\n",
      "reward: 1.0\n",
      "Episode finished after 11 timesteps\n",
      "--------\n",
      "reward: 1.0\n",
      "Episode finished after 10 timesteps\n",
      "--------\n",
      "reward: 1.0\n",
      "Episode finished after 11 timesteps\n",
      "--------\n",
      "reward: 1.0\n",
      "Episode finished after 10 timesteps\n",
      "--------\n",
      "reward: 1.0\n",
      "Episode finished after 9 timesteps\n",
      "--------\n",
      "reward: 1.0\n",
      "Episode finished after 10 timesteps\n",
      "--------\n",
      "reward: 1.0\n",
      "Episode finished after 11 timesteps\n",
      "--------\n",
      "reward: 1.0\n",
      "Episode finished after 11 timesteps\n",
      "--------\n",
      "reward: 1.0\n",
      "Episode finished after 10 timesteps\n",
      "--------\n",
      "reward: 1.0\n",
      "Episode finished after 10 timesteps\n",
      "--------\n",
      "reward: 1.0\n",
      "Episode finished after 10 timesteps\n",
      "--------\n",
      "reward: 1.0\n",
      "Episode finished after 11 timesteps\n",
      "--------\n",
      "reward: 1.0\n",
      "Episode finished after 11 timesteps\n",
      "--------\n",
      "reward: 1.0\n",
      "Episode finished after 9 timesteps\n",
      "--------\n",
      "reward: 1.0\n",
      "Episode finished after 10 timesteps\n",
      "--------\n",
      "reward: 1.0\n",
      "Episode finished after 11 timesteps\n",
      "--------\n",
      "reward: 1.0\n",
      "Episode finished after 11 timesteps\n",
      "--------\n",
      "reward: 1.0\n",
      "Episode finished after 11 timesteps\n",
      "--------\n",
      "reward: 1.0\n",
      "Episode finished after 11 timesteps\n",
      "--------\n",
      "reward: 1.0\n",
      "Episode finished after 10 timesteps\n",
      "--------\n",
      "reward: 1.0\n",
      "Episode finished after 10 timesteps\n",
      "--------\n",
      "reward: 1.0\n",
      "Episode finished after 11 timesteps\n",
      "--------\n",
      "reward: 1.0\n",
      "Episode finished after 11 timesteps\n",
      "--------\n",
      "reward: 1.0\n",
      "Episode finished after 10 timesteps\n",
      "--------\n",
      "reward: 1.0\n",
      "Episode finished after 9 timesteps\n",
      "--------\n",
      "reward: 1.0\n",
      "Episode finished after 10 timesteps\n",
      "--------\n",
      "reward: 1.0\n",
      "Episode finished after 11 timesteps\n",
      "--------\n",
      "reward: 1.0\n",
      "Episode finished after 11 timesteps\n",
      "--------\n",
      "reward: 1.0\n",
      "Episode finished after 9 timesteps\n",
      "--------\n",
      "reward: 1.0\n",
      "Episode finished after 11 timesteps\n",
      "--------\n",
      "reward: 1.0\n",
      "Episode finished after 9 timesteps\n",
      "--------\n",
      "reward: 1.0\n",
      "Episode finished after 10 timesteps\n",
      "--------\n",
      "reward: 1.0\n",
      "Episode finished after 10 timesteps\n",
      "--------\n",
      "reward: 1.0\n",
      "Episode finished after 10 timesteps\n",
      "--------\n",
      "reward: 1.0\n",
      "Episode finished after 11 timesteps\n",
      "--------\n",
      "reward: 1.0\n",
      "Episode finished after 11 timesteps\n",
      "--------\n",
      "reward: 1.0\n",
      "Episode finished after 11 timesteps\n",
      "--------\n",
      "reward: 1.0\n",
      "Episode finished after 10 timesteps\n",
      "--------\n",
      "reward: 1.0\n",
      "Episode finished after 10 timesteps\n",
      "--------\n",
      "reward: 1.0\n",
      "Episode finished after 11 timesteps\n",
      "--------\n",
      "reward: 1.0\n",
      "Episode finished after 10 timesteps\n",
      "--------\n",
      "reward: 1.0\n",
      "Episode finished after 11 timesteps\n",
      "--------\n",
      "reward: 1.0\n",
      "Episode finished after 11 timesteps\n",
      "--------\n",
      "reward: 1.0\n",
      "Episode finished after 10 timesteps\n",
      "--------\n",
      "reward: 1.0\n",
      "Episode finished after 11 timesteps\n",
      "--------\n",
      "reward: 1.0\n",
      "Episode finished after 10 timesteps\n",
      "--------\n",
      "reward: 1.0\n",
      "Episode finished after 10 timesteps\n",
      "--------\n",
      "reward: 1.0\n",
      "Episode finished after 10 timesteps\n",
      "--------\n",
      "reward: 1.0\n",
      "Episode finished after 12 timesteps\n",
      "--------\n",
      "reward: 1.0\n",
      "Episode finished after 11 timesteps\n",
      "--------\n",
      "reward: 1.0\n",
      "Episode finished after 9 timesteps\n",
      "--------\n",
      "reward: 1.0\n",
      "Episode finished after 11 timesteps\n",
      "--------\n",
      "reward: 1.0\n",
      "Episode finished after 11 timesteps\n",
      "--------\n",
      "reward: 1.0\n",
      "Episode finished after 9 timesteps\n",
      "--------\n",
      "reward: 1.0\n",
      "Episode finished after 9 timesteps\n",
      "--------\n",
      "reward: 1.0\n",
      "Episode finished after 10 timesteps\n",
      "--------\n",
      "reward: 1.0\n",
      "Episode finished after 11 timesteps\n",
      "--------\n",
      "reward: 1.0\n",
      "Episode finished after 11 timesteps\n",
      "--------\n",
      "reward: 1.0\n",
      "Episode finished after 12 timesteps\n",
      "--------\n",
      "reward: 1.0\n",
      "Episode finished after 10 timesteps\n",
      "--------\n",
      "reward: 1.0\n",
      "Episode finished after 11 timesteps\n",
      "--------\n",
      "reward: 1.0\n",
      "Episode finished after 11 timesteps\n",
      "--------\n",
      "reward: 1.0\n",
      "Episode finished after 10 timesteps\n",
      "--------\n",
      "reward: 1.0\n",
      "Episode finished after 10 timesteps\n",
      "--------\n",
      "reward: 1.0\n",
      "Episode finished after 9 timesteps\n",
      "--------\n",
      "reward: 1.0\n",
      "Episode finished after 9 timesteps\n",
      "--------\n",
      "reward: 1.0\n",
      "Episode finished after 10 timesteps\n",
      "--------\n",
      "reward: 1.0\n",
      "Episode finished after 11 timesteps\n",
      "--------\n",
      "reward: 1.0\n",
      "Episode finished after 11 timesteps\n",
      "--------\n",
      "reward: 1.0\n",
      "Episode finished after 10 timesteps\n",
      "--------\n",
      "reward: 1.0\n",
      "Episode finished after 11 timesteps\n",
      "--------\n",
      "reward: 1.0\n",
      "Episode finished after 11 timesteps\n",
      "--------\n",
      "reward: 1.0\n",
      "Episode finished after 9 timesteps\n",
      "--------\n",
      "reward: 1.0\n",
      "Episode finished after 12 timesteps\n",
      "--------\n",
      "reward: 1.0\n",
      "Episode finished after 9 timesteps\n",
      "--------\n",
      "reward: 1.0\n",
      "Episode finished after 9 timesteps\n",
      "--------\n",
      "reward: 1.0\n",
      "Episode finished after 10 timesteps\n",
      "--------\n",
      "reward: 1.0\n",
      "Episode finished after 10 timesteps\n",
      "--------\n",
      "reward: 1.0\n",
      "Episode finished after 12 timesteps\n",
      "--------\n",
      "reward: 1.0\n",
      "Episode finished after 10 timesteps\n",
      "--------\n",
      "reward: 1.0\n",
      "Episode finished after 10 timesteps\n",
      "--------\n",
      "reward: 1.0\n",
      "Episode finished after 11 timesteps\n",
      "--------\n",
      "reward: 1.0\n",
      "Episode finished after 11 timesteps\n",
      "--------\n",
      "reward: 1.0\n",
      "Episode finished after 10 timesteps\n",
      "--------\n",
      "reward: 1.0\n",
      "Episode finished after 9 timesteps\n",
      "--------\n",
      "reward: 1.0\n",
      "Episode finished after 12 timesteps\n",
      "--------\n",
      "reward: 1.0\n",
      "Episode finished after 11 timesteps\n",
      "--------\n",
      "reward: 1.0\n",
      "Episode finished after 11 timesteps\n",
      "--------\n",
      "reward: 1.0\n",
      "Episode finished after 10 timesteps\n",
      "--------\n",
      "reward: 1.0\n",
      "Episode finished after 10 timesteps\n",
      "--------\n",
      "reward: 1.0\n",
      "Episode finished after 10 timesteps\n",
      "--------\n",
      "reward: 1.0\n",
      "Episode finished after 11 timesteps\n",
      "--------\n",
      "reward: 1.0\n",
      "Episode finished after 9 timesteps\n",
      "--------\n",
      "reward: 1.0\n",
      "Episode finished after 10 timesteps\n",
      "--------\n",
      "reward: 1.0\n",
      "Episode finished after 11 timesteps\n",
      "--------\n",
      "reward: 1.0\n",
      "Episode finished after 10 timesteps\n",
      "--------\n",
      "reward: 1.0\n",
      "Episode finished after 10 timesteps\n",
      "--------\n",
      "reward: 1.0\n",
      "Episode finished after 11 timesteps\n",
      "--------\n",
      "reward: 1.0\n",
      "Episode finished after 11 timesteps\n",
      "--------\n",
      "reward: 1.0\n",
      "Episode finished after 10 timesteps\n"
     ]
    }
   ],
   "source": [
    "env._max_episode_steps = 100000\n",
    "\n",
    "method = \"discrete\"\n",
    "#method = \"continuous\"\n",
    "num_steps = []\n",
    "for i_episode in range(100):\n",
    "    observation = env.reset()\n",
    "    print (\"--------\")\n",
    "    t = 0\n",
    "    actions = []\n",
    "    while True:\n",
    "        t+=1\n",
    "        env.render()\n",
    "        action = LSPI.get_policy_action(env.env.state, w_est, bfs, env, method = method)\n",
    "        # action = env.action_space.sample()\n",
    "        if method == \"continuous\":\n",
    "            action = [action[0]]\n",
    "        observation, reward, done, info = env.step(action)\n",
    "        #print observation\n",
    "        if done:\n",
    "            print (\"reward:\",reward)\n",
    "            num_steps.append(t)\n",
    "            print(\"Episode finished after {} timesteps\".format(t+1))\n",
    "            break"
   ]
  },
  {
   "cell_type": "code",
   "execution_count": 92,
   "metadata": {},
   "outputs": [
    {
     "name": "stdout",
     "output_type": "stream",
     "text": [
      "128.26\n"
     ]
    },
    {
     "data": {
      "image/png": "[encoded data removed]",
      "text/plain": [
       "<Figure size 432x288 with 1 Axes>"
      ]
     },
     "metadata": {
      "needs_background": "light"
     },
     "output_type": "display_data"
    }
   ],
   "source": [
    "plt.hist(num_steps);\n",
    "print(np.mean(num_steps))"
   ]
  },
  {
   "cell_type": "code",
   "execution_count": 54,
   "metadata": {
    "collapsed": true
   },
   "outputs": [],
   "source": [
    "bfs = basisFunctions.get_cartpole_basis_functions_quadratic_v1()"
   ]
  },
  {
   "cell_type": "code",
   "execution_count": 58,
   "metadata": {},
   "outputs": [
    {
     "data": {
      "text/plain": [
       "27.0"
      ]
     },
     "execution_count": 58,
     "metadata": {},
     "output_type": "execute_result"
    }
   ],
   "source": [
    "bfs[0](np.array([1,2,3,2]),3)"
   ]
  },
  {
   "cell_type": "code",
   "execution_count": 66,
   "metadata": {},
   "outputs": [
    {
     "data": {
      "text/plain": [
       "array([[1., 1., 1.],\n",
       "       [1., 1., 1.],\n",
       "       [1., 1., 1.]])"
      ]
     },
     "execution_count": 66,
     "metadata": {},
     "output_type": "execute_result"
    }
   ],
   "source": [
    "np.ones((3,3))"
   ]
  },
  {
   "cell_type": "code",
   "execution_count": 6,
   "metadata": {},
   "outputs": [
    {
     "data": {
      "text/plain": [
       "array([-0.53597464,  0.        ])"
      ]
     },
     "execution_count": 6,
     "metadata": {},
     "output_type": "execute_result"
    }
   ],
   "source": [
    "env.reset()"
   ]
  },
  {
   "cell_type": "code",
   "execution_count": 36,
   "metadata": {},
   "outputs": [
    {
     "data": {
      "text/plain": [
       "array([[-1.,  1.,  1.,  1.,  1.,  1.,  1.],\n",
       "       [ 1., -1.,  1.,  1.,  1.,  1.,  1.],\n",
       "       [ 1.,  1., -1.,  1.,  1.,  1.,  1.],\n",
       "       [ 1.,  1.,  1., -1.,  1.,  1.,  1.],\n",
       "       [ 1.,  1.,  1.,  1., -1.,  1.,  1.],\n",
       "       [ 1.,  1.,  1.,  1.,  1., -1.,  1.],\n",
       "       [ 1.,  1.,  1.,  1.,  1.,  1., -1.]])"
      ]
     },
     "execution_count": 36,
     "metadata": {},
     "output_type": "execute_result"
    }
   ],
   "source": [
    "np.ones((7,7))-2*np.identity(7)"
   ]
  },
  {
   "cell_type": "code",
   "execution_count": 78,
   "metadata": {},
   "outputs": [
    {
     "data": {
      "text/plain": [
       "0"
      ]
     },
     "execution_count": 78,
     "metadata": {},
     "output_type": "execute_result"
    }
   ],
   "source": [
    "env.action_space.sample()"
   ]
  },
  {
   "cell_type": "code",
   "execution_count": null,
   "metadata": {
    "collapsed": true
   },
   "outputs": [],
   "source": []
  }
 ],
 "metadata": {
  "kernelspec": {
   "display_name": "Python 3",
   "language": "python",
   "name": "python3"
  },
  "language_info": {
   "codemirror_mode": {
    "name": "ipython",
    "version": 3
   },
   "file_extension": ".py",
   "mimetype": "text/x-python",
   "name": "python",
   "nbconvert_exporter": "python",
   "pygments_lexer": "ipython3",
   "version": "3.7.1"
  }
 },
 "nbformat": 4,
 "nbformat_minor": 2
}
