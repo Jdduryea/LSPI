{
 "cells": [
  {
   "cell_type": "markdown",
   "metadata": {
    "collapsed": true
   },
   "source": [
    "# This is a notebook for testing my implementation of LSPI"
   ]
  },
  {
   "cell_type": "code",
   "execution_count": 2,
   "metadata": {
    "collapsed": true
   },
   "outputs": [],
   "source": [
    "import gym\n",
    "import numpy as np\n",
    "import matplotlib.pyplot as plt\n",
    "from tqdm import tqdm\n",
    "%matplotlib inline\n",
    "\n"
   ]
  },
  {
   "cell_type": "code",
   "execution_count": 3,
   "metadata": {},
   "outputs": [
    {
     "data": {
      "text/plain": [
       "array([-0.40485638,  0.        ])"
      ]
     },
     "execution_count": 3,
     "metadata": {},
     "output_type": "execute_result"
    }
   ],
   "source": [
    "#env = gym.make('CartPole-v0')\n",
    "env = gym.make(\"MountainCarContinuous-v0\")\n",
    "#env = gym.make(\"Pendulum-v0\")\n",
    "#env = gym.make(\"NChain-v0\")\n",
    "env.reset()"
   ]
  },
  {
   "cell_type": "code",
   "execution_count": 4,
   "metadata": {},
   "outputs": [
    {
     "data": {
      "text/plain": [
       "array([ 0.09762701])"
      ]
     },
     "execution_count": 4,
     "metadata": {},
     "output_type": "execute_result"
    }
   ],
   "source": [
    "env.action_space.sample()"
   ]
  },
  {
   "cell_type": "code",
   "execution_count": 5,
   "metadata": {},
   "outputs": [
    {
     "data": {
      "text/plain": [
       "array([ 0.08734086,  0.01438687])"
      ]
     },
     "execution_count": 5,
     "metadata": {},
     "output_type": "execute_result"
    }
   ],
   "source": [
    "env.observation_space.sample()"
   ]
  },
  {
   "cell_type": "markdown",
   "metadata": {
    "collapsed": true
   },
   "source": [
    "# Implementation"
   ]
  },
  {
   "cell_type": "code",
   "execution_count": 63,
   "metadata": {
    "collapsed": true
   },
   "outputs": [],
   "source": [
    "def LSPI(basis_functions, gamma, epsilon, w, env, method = \"discrete\"):\n",
    "    '''\n",
    "    Compute the parameters of the policy, w, using the LSPI algorithm.\n",
    "    \n",
    "    Inputs:\n",
    "    sample: list of tuples of the form (s,a,r,s')\n",
    "    basis_functions: list of basis functions\n",
    "    gamma: float, discount factor\n",
    "    epsilon: float, convergence threshold\n",
    "    w: intial policy parameter vector\n",
    "    \n",
    "    Outputs:\n",
    "    w: the converged policy paramters\n",
    "    '''\n",
    "    w0 = []\n",
    "    samples = generate_samples(env, 10000, 20)\n",
    "    #while True:\n",
    "    for i in tqdm(range(100)):\n",
    "        w_prev = w\n",
    "        #w = LSTDQ(samples, basis_functions, gamma, w, env)\n",
    "        w = LSTDQ_OPT(samples, basis_functions, gamma, w, env, method = method)\n",
    "        \n",
    "        \n",
    "        if converged(w, w_prev, epsilon):\n",
    "            break \n",
    "        else:\n",
    "            w_prev = w\n",
    "        w0.append(w[0])\n",
    "        print w[0]\n",
    "    return w, w0\n",
    "\n",
    "def converged(w, w_prev, epsilon):\n",
    "    '''\n",
    "    Determines if the policy parameters have converged based\n",
    "    on whether or not the norm of the difference of w\n",
    "    is less than the threshold epsilon.\n",
    "    \n",
    "    Inputs:\n",
    "    w: a policy parameter vector\n",
    "    w_prev: the policy parameter vetor from a previous iteration.\n",
    "    epsilon: float, convergence threshold\n",
    "    '''\n",
    "    return np.linalg.norm(w - w_prev) < epsilon\n",
    "\n",
    "def LSTDQ(samples, basis_functions, gamma, w, env, method=\"discrete\"):\n",
    "    '''\n",
    "    Simple version of LSTDQ\n",
    "    '''\n",
    "    k = len(basis_functions)\n",
    "    #A = np.zeros((k,k)), this might not have an inverse, use the next line instead\n",
    "    A = np.identity(k) * 0.01\n",
    "    b = np.zeros(k)\n",
    "    \n",
    "    #samples[np.random.choice(len(samples), 100, replace=False)]\n",
    "    \n",
    "    for s, a, r, sp in samples:\n",
    "        phi = compute_phi(s,a, basis_functions)\n",
    "        phi_p = compute_phi(sp, get_policy_action(sp, w, basis_functions, env, method), basis_functions)\n",
    "\n",
    "        A += np.outer(phi, (phi - gamma*phi_p))\n",
    "        b = b + phi*r\n",
    "    \n",
    "    \n",
    "    w = np.dot(np.linalg.inv(A),b)\n",
    "    return w\n",
    "    \n",
    "    \n",
    "\n",
    "    \n",
    "    \n",
    "def LSTDQ_OPT(samples, basis_functions, gamma, w, env, sigma=0.1, method = \"discrete\" ):\n",
    "    '''\n",
    "    A faster version of LSTDQ. Computes an approximation of the policy parameters based\n",
    "    on the LSTDQ-OPT algorithm presented in the paper.\n",
    "    \n",
    "    Inputs:\n",
    "    sample: list of tuples of the form (s,a,r,s')\n",
    "    basis_functions: list of basis functions\n",
    "    gamma: float, discount factor\n",
    "    epsilon: float, convergence threshold\n",
    "    w: intial policy parameter vector\n",
    "    \n",
    "    sigma: small positive float.\n",
    "    '''\n",
    "    k = len(basis_functions)\n",
    "    B = np.identity(k) * float(1/sigma)\n",
    "    b = np.zeros(k)\n",
    "    \n",
    "    for s, a, r, sp in samples:\n",
    "        phi = compute_phi(s,a, basis_functions)\n",
    "        phi_p = compute_phi(sp, get_policy_action(sp, w, basis_functions, env, method), basis_functions)\n",
    "\n",
    "        # Some computations that can be reused in the computation\n",
    "        Bphi = np.dot(B, phi)\n",
    "        phi_t =  (phi - gamma*phi_p).T\n",
    "        \n",
    "\n",
    "        top = np.dot(np.outer(Bphi, phi_t), B)\n",
    "        bottom = 1 + np.dot(phi_t, Bphi)\n",
    "        B = B - top/bottom\n",
    "        \n",
    "        b = b + phi*r\n",
    "    \n",
    "    w = np.dot(B,b)\n",
    "        \n",
    "        \n",
    "    return w\n",
    "       \n",
    "\n",
    "def compute_phi(s,a, basis_functions):\n",
    "    '''\n",
    "    Computes the vector ϕ(s,a) according to the basis function ϕ_1...ϕ_k\n",
    "    \n",
    "    Inputs:\n",
    "    s: state\n",
    "    a: action\n",
    "    basis_functions: list of basis functions that operate on s and a\n",
    "    \n",
    "    Outputs:\n",
    "    ϕ(s,a), a vector where each entry is the result of one of the basis functions.\n",
    "    '''\n",
    "\n",
    "    phi= np.array([bf(s,a) for bf in basis_functions])\n",
    "    return phi\n",
    "    \n",
    "    \n",
    "def get_policy_action(s,w, basis_functions, env, method = \"discrete\"):\n",
    "    if method == \"discrete\":\n",
    "        return get_policy_action_discrete(s,w,basis_functions,env)\n",
    "    if method == \"continuous\":\n",
    "        return get_policy_actions_continuous_discretized(s, w, basis_functions, env)\n",
    "    \n",
    "def get_policy_action_discrete(s, w, basis_functions, env):\n",
    "    '''\n",
    "    For discrete action spaces. Given a parameterization for the policy,\n",
    "    reconstruct the policy and querery it to get \n",
    "    the optimal action for state s. That is,\n",
    "    the argmax over actions of ϕ(s,a).w\n",
    "    \n",
    "    Inputs:\n",
    "    s: state\n",
    "    w: policy parameters\n",
    "    basis_functions: the basis functions that are used in the model\n",
    "    \n",
    "    Outputs:\n",
    "    action a that the policy says is best\n",
    "    '''\n",
    "    a_max = None\n",
    "    max_score = float(\"-inf\")\n",
    "    \n",
    "    action_space = [0,1]\n",
    "    # Search action space for most valuable action\n",
    " \n",
    "    #TODO:  use sympy for grad desc\n",
    "    for a in action_space:\n",
    "        score = np.dot(compute_phi(s,a, basis_functions), w)\n",
    "        # update if we found something better\n",
    "        if score > max_score:\n",
    "            max_score = score\n",
    "            a_max = a\n",
    "    return a_max    \n",
    "    \n",
    "    \n",
    "def get_policy_actions_continuous_discretized(s, w, basis_functions, env, n_discretizations=10):\n",
    "    '''\n",
    "    For discrete action spaces. Given a parameterization for the policy,\n",
    "    reconstruct the policy and querery it to get \n",
    "    the optimal action for state s. That is,\n",
    "    the argmax over actions of ϕ(s,a).w\n",
    "    \n",
    "    Inputs:\n",
    "    s: stateget_policy_action\n",
    "    w: policy parameters\n",
    "    basis_functions: the basis functions that are used in the model\n",
    "    n_discretizations: the number of chunks to split the continuous space into\n",
    "       \n",
    "    \n",
    "    Outputs:\n",
    "    action a that the policy says is best\n",
    "    '''\n",
    "    \n",
    "    a_max = None\n",
    "    max_score = float(\"-inf\")\n",
    "    \n",
    "    # Discretize the continuous space into n_discretizations chunks\n",
    "    action_space = np.linspace(env.action_space.low[0], env.action_space.high[0], n_discretizations)\n",
    "    for a in action_space:\n",
    "        score = np.dot(compute_phi(s, a, basis_functions), w)\n",
    "        # update if we found something better\n",
    "        if score > max_score:\n",
    "            max_score = score\n",
    "            a_max = a\n",
    "            \n",
    "    return a_max\n",
    "\n",
    "def get_cartpole_basis_functions_v1():\n",
    "    bf1 = lambda s,a:a\n",
    "    bf2 = lambda s,a:s[0]\n",
    "    bf3 = lambda s,a:s[1]\n",
    "    bf4 = lambda s,a:s[2]\n",
    "    bf5 = lambda s,a:s[3]\n",
    "    bfs = [bf1,bf2,bf3,bf4,bf5]\n",
    "    return bfs\n",
    "   \n",
    "def get_cartpole_basis_functions_v2():\n",
    "    '''\n",
    "    Returns a list of basis functions that seem \n",
    "    to work well for the simplified (no singularity, starting above the horizon)\n",
    "    cartpole problem.\n",
    "    \n",
    "    Note: this one seems to work the best so far.\n",
    "    '''\n",
    "    s1 = np.array([1,1,1,1])\n",
    "    s2 = np.array([0,0,0,0])\n",
    "    s3 = np.array([1,0,1,0])\n",
    "\n",
    "    bf1 = lambda s,a: 1\n",
    "\n",
    "    bf2 = lambda s,a: int(a==0)*np.exp( - np.linalg.norm(s-s1)/2.0)\n",
    "    bf3 = lambda s,a: int(a==1)*np.exp( - np.linalg.norm(s-s1)/2.0)\n",
    "\n",
    "    bf4 = lambda s,a: int(a==0)*np.exp( - np.linalg.norm(s-s2)/2.0)\n",
    "    bf5 = lambda s,a: int(a==1)*np.exp( - np.linalg.norm(s-s2)/2.0)\n",
    "\n",
    "    bf6 = lambda s,a: int(a==0)*np.exp( - np.linalg.norm(s-s3)/2.0)\n",
    "    bf7 = lambda s,a: int(a==1)*np.exp( - np.linalg.norm(s-s3)/2.0)\n",
    "    \n",
    "    \n",
    "    bfs = [bf1,bf2, bf3, bf4, bf5, bf6, bf7]\n",
    "    \n",
    "    return bfs\n",
    "\n",
    "\n",
    "def get_cartpole_basis_functions_v3():\n",
    "\n",
    "    s1 = np.array([-1,-1,0,0])\n",
    "    s2 = np.array([-0.5,-1,0,0])\n",
    "    s3 = np.array([-0.1,-1,0,-0.5])\n",
    "    s4 = np.array([0,0,0,0])\n",
    "    s5 = np.array([0.1,1,0,0])\n",
    "    s6 = np.array([0.5,0.5,0,-0.5])\n",
    "    s7 = np.array([1,0,0,0])\n",
    "\n",
    "    bf1 = lambda s,a: 1\n",
    "\n",
    "    bf2 = lambda s,a: int(a==0)*np.exp( - np.linalg.norm(s-s1)/2.0)\n",
    "    bf3 = lambda s,a: int(a==1)*np.exp( - np.linalg.norm(s-s1)/2.0)\n",
    "\n",
    "    bf4 = lambda s,a: int(a==0)*np.exp( - np.linalg.norm(s-s2)/2.0)\n",
    "    bf5 = lambda s,a: int(a==1)*np.exp( - np.linalg.norm(s-s2)/2.0)\n",
    "\n",
    "    bf6 = lambda s,a: int(a==0)*np.exp( - np.linalg.norm(s-s3)/2.0)\n",
    "    bf7 = lambda s,a: int(a==1)*np.exp( - np.linalg.norm(s-s3)/2.0)\n",
    "    \n",
    "    bf8 = lambda s,a: int(a==0)*np.exp( - np.linalg.norm(s-s4)/2.0)\n",
    "    bf9 = lambda s,a: int(a==1)*np.exp( - np.linalg.norm(s-s4)/2.0)\n",
    "    \n",
    "    bf10 = lambda s,a: int(a==0)*np.exp( - np.linalg.norm(s-s5)/2.0)\n",
    "    bf11 = lambda s,a: int(a==1)*np.exp( - np.linalg.norm(s-s5)/2.0)\n",
    "    \n",
    "    bf12 = lambda s,a: int(a==0)*np.exp( - np.linalg.norm(s-s6)/2.0)\n",
    "    bf13 = lambda s,a: int(a==1)*np.exp( - np.linalg.norm(s-s6)/2.0)\n",
    "    \n",
    "    bf14 = lambda s,a: int(a==0)*np.exp( - np.linalg.norm(s-s7)/2.0)\n",
    "    bf15 = lambda s,a: int(a==1)*np.exp( - np.linalg.norm(s-s7)/2.0)\n",
    "\n",
    "    bfs = [bf1,bf2,bf3,bf4, bf5, bf6, bf7, bf8, bf9, bf10, bf11, bf12, bf13, bf14, bf15]\n",
    "    return bfs\n",
    "    \n",
    "    \n",
    "def get_cartpole_basis_functions_v4():\n",
    "    bf1 = lambda s,a: 1\n",
    "    bf2 = lambda s,a: a\n",
    "    bf3 = lambda s,a: int(a==0)*s[0]\n",
    "    bf4 = lambda s,a: int(a==0)*s[1]\n",
    "    bf5 = lambda s,a: int(a==0)*s[2]\n",
    "    bf6 = lambda s,a: int(a==0)*s[3]\n",
    "    bf7 = lambda s,a: int(a==1)*s[0]\n",
    "    bf8 = lambda s,a: int(a==1)*s[1]\n",
    "    bf9 = lambda s,a: int(a==1)*s[2]\n",
    "    bf10 = lambda s,a: int(a==1)*s[3]\n",
    "    return [bf1,bf2,bf3,bf4,bf5, bf6, bf7, bf8, bf8, bf10]\n",
    "\n",
    "    \n",
    "def get_continuous_mt_car_basis_functions():\n",
    "    '''\n",
    "    Define some basis functions and return them in a list\n",
    "    '''\n",
    "    bfs = []\n",
    "\n",
    "    bf1 = lambda s,a: 1\n",
    "    bf2 = lambda s,a: s[0]\n",
    "    bf3 = lambda s,a: a\n",
    "    bf4 = lambda s,a: a*s[0]*s[0]\n",
    "    bf5 = lambda s,a: a*s[0]*s[0]*s[0]\n",
    "    bf6 = lambda s,a: a*s[1]\n",
    "    bf7 = lambda s,a: a*s[1]*s[1]\n",
    "    bf8 = lambda s,a: a*s[1]*s[1]*s[1]\n",
    "    bf9 = lambda s,a: a*s[0]*s[1]\n",
    "    bf10 = lambda s,a: a*s[0]*s[0]*s[1]*s[1]\n",
    "\n",
    "\n",
    "    bfs = [bf1,bf2,bf3,bf4,bf5, bf6,bf7,bf8,bf9,bf10]\n",
    "    return bfs\n",
    "\n",
    "\n",
    "def generate_samples(env, n_samples, n_steps=100):\n",
    "    samples = []\n",
    "    print env.reset()\n",
    "    for i in range(n_samples):\n",
    "        env.reset()\n",
    "        for j in range(n_steps):\n",
    "            s = list(env.env.state)\n",
    "\n",
    "            a = env.action_space.sample()\n",
    "            #print \"A1:\",a\n",
    "            #a = np.random.choice(np.linspace(-1,1,10))\n",
    "            #print \"A2:\",a\n",
    "            #a = np.random.choice(np.linspace(0,1,2))\n",
    "            sp,r, _,_ = env.step(a)\n",
    "            \n",
    "            sample = (s, a, r, sp)\n",
    "            samples.append(sample)\n",
    "\n",
    "    return np.array(samples)\n",
    "    "
   ]
  },
  {
   "cell_type": "code",
   "execution_count": 7,
   "metadata": {},
   "outputs": [
    {
     "name": "stdout",
     "output_type": "stream",
     "text": [
      "[ 0.6   0.07]\n",
      "[-1.2  -0.07]\n"
     ]
    }
   ],
   "source": [
    "print env.observation_space.high\n",
    "print env.observation_space.low"
   ]
  },
  {
   "cell_type": "code",
   "execution_count": null,
   "metadata": {
    "collapsed": true
   },
   "outputs": [],
   "source": []
  },
  {
   "cell_type": "code",
   "execution_count": null,
   "metadata": {},
   "outputs": [],
   "source": [
    "print env.action_space.sample()\n",
    "print env.action_space.low"
   ]
  },
  {
   "cell_type": "code",
   "execution_count": 64,
   "metadata": {},
   "outputs": [
    {
     "name": "stdout",
     "output_type": "stream",
     "text": [
      "[-0.53432865  0.        ]\n"
     ]
    },
    {
     "name": "stderr",
     "output_type": "stream",
     "text": [
      "\n",
      "\n",
      "\n",
      "\n",
      "  0%|          | 0/100 [00:00<?, ?it/s]\u001b[A\u001b[A\u001b[A\u001b[A\n",
      "\n",
      "\n",
      "\u001b[A\u001b[A\u001b[A\n",
      "\n",
      "\n",
      "\n",
      "  1%|          | 1/100 [00:28<47:00, 28.49s/it]"
     ]
    },
    {
     "name": "stdout",
     "output_type": "stream",
     "text": [
      "-0.0352926882954\n"
     ]
    },
    {
     "name": "stderr",
     "output_type": "stream",
     "text": [
      "\u001b[A\u001b[A\u001b[A\u001b[A\n",
      "\n",
      "\n",
      "\n",
      "  2%|▏         | 2/100 [00:52<44:22, 27.17s/it]"
     ]
    },
    {
     "name": "stdout",
     "output_type": "stream",
     "text": [
      "-0.0354917784251\n"
     ]
    },
    {
     "name": "stderr",
     "output_type": "stream",
     "text": [
      "\u001b[A\u001b[A\u001b[A\u001b[A"
     ]
    },
    {
     "name": "stdout",
     "output_type": "stream",
     "text": [
      "[ -3.54917773e-02  -9.00777851e-04  -8.03927337e-04   8.64635125e-04\n",
      "  -5.61739579e-03   4.17304863e-02  -8.19483137e-05  -1.57914767e-05\n",
      "  -7.96584426e-03   6.33860122e-05]\n"
     ]
    }
   ],
   "source": [
    "bfs = get_basis_functions()\n",
    "\n",
    "\n",
    "gamma, epsilon, k = 0.05, 0.0001, len(bfs)\n",
    "w = np.zeros(k)\n",
    "w_est, w0 = LSPI(bfs, gamma, epsilon, w, env, method = \"continuous\")\n",
    "print w_est\n",
    "\n"
   ]
  },
  {
   "cell_type": "code",
   "execution_count": 65,
   "metadata": {},
   "outputs": [
    {
     "data": {
      "text/plain": [
       "[<matplotlib.lines.Line2D at 0x11261fe50>]"
      ]
     },
     "execution_count": 65,
     "metadata": {},
     "output_type": "execute_result"
    },
    {
     "data": {
      "image/png": "[encoded data removed]",
      "text/plain": [
       "<matplotlib.figure.Figure at 0x10df10250>"
      ]
     },
     "metadata": {},
     "output_type": "display_data"
    }
   ],
   "source": [
    "plt.plot(w0)"
   ]
  },
  {
   "cell_type": "code",
   "execution_count": 62,
   "metadata": {},
   "outputs": [
    {
     "data": {
      "text/plain": [
       "array([ -3.67432485e-02,  -1.58193604e-03,  -1.47534160e-04,\n",
       "         9.77362451e-03,   1.23372063e-02,   7.05223551e-05,\n",
       "        -1.14090796e-03,  -1.92714643e-07,  -3.33120094e-02,\n",
       "        -6.12246659e-04])"
      ]
     },
     "execution_count": 62,
     "metadata": {},
     "output_type": "execute_result"
    }
   ],
   "source": [
    "w_est"
   ]
  },
  {
   "cell_type": "code",
   "execution_count": 58,
   "metadata": {},
   "outputs": [
    {
     "data": {
      "text/plain": [
       "numpy.ndarray"
      ]
     },
     "execution_count": 58,
     "metadata": {},
     "output_type": "execute_result"
    }
   ],
   "source": [
    "type(env.action_space.low )"
   ]
  },
  {
   "cell_type": "code",
   "execution_count": 59,
   "metadata": {},
   "outputs": [
    {
     "data": {
      "text/plain": [
       "-1.0"
      ]
     },
     "execution_count": 59,
     "metadata": {},
     "output_type": "execute_result"
    }
   ],
   "source": [
    "get_policy_action(env.env.state, w_est, bfs, env, method=\"continuous\")"
   ]
  },
  {
   "cell_type": "code",
   "execution_count": 69,
   "metadata": {},
   "outputs": [
    {
     "name": "stdout",
     "output_type": "stream",
     "text": [
      "--------\n",
      "reward: 99.9\n",
      "Episode finished after 143 timesteps\n",
      "--------\n",
      "reward: 99.9\n",
      "Episode finished after 100 timesteps\n",
      "--------\n",
      "reward: 99.9\n",
      "Episode finished after 91 timesteps\n",
      "--------\n",
      "reward: 99.9\n",
      "Episode finished after 95 timesteps\n",
      "--------\n",
      "reward: 99.9\n",
      "Episode finished after 143 timesteps\n",
      "--------\n",
      "reward: 99.9\n",
      "Episode finished after 98 timesteps\n",
      "--------\n",
      "reward: 99.9\n",
      "Episode finished after 94 timesteps\n",
      "--------\n",
      "reward: 99.9\n",
      "Episode finished after 92 timesteps\n",
      "--------\n",
      "reward: 99.9\n",
      "Episode finished after 68 timesteps\n",
      "--------\n",
      "reward: 99.9\n",
      "Episode finished after 100 timesteps\n",
      "--------\n",
      "reward: 99.9\n",
      "Episode finished after 100 timesteps\n",
      "--------\n",
      "reward: 99.9\n",
      "Episode finished after 92 timesteps\n",
      "--------\n",
      "reward: 99.9\n",
      "Episode finished after 100 timesteps\n",
      "--------\n",
      "reward: 99.9\n",
      "Episode finished after 96 timesteps\n",
      "--------\n",
      "reward: 99.9\n",
      "Episode finished after 68 timesteps\n",
      "--------\n",
      "reward: 99.9\n",
      "Episode finished after 68 timesteps\n",
      "--------\n",
      "reward: 99.9\n",
      "Episode finished after 73 timesteps\n",
      "--------\n",
      "reward: 99.9\n",
      "Episode finished after 102 timesteps\n",
      "--------\n",
      "reward: 99.9\n",
      "Episode finished after 143 timesteps\n",
      "--------\n",
      "reward: 99.9\n",
      "Episode finished after 92 timesteps\n",
      "--------\n",
      "reward: 99.9\n",
      "Episode finished after 98 timesteps\n",
      "--------\n",
      "reward: 99.9\n",
      "Episode finished after 68 timesteps\n",
      "--------\n",
      "reward: 99.9\n",
      "Episode finished after 68 timesteps\n",
      "--------\n",
      "reward: 99.9\n",
      "Episode finished after 100 timesteps\n",
      "--------\n",
      "reward: 99.9\n",
      "Episode finished after 143 timesteps\n",
      "--------\n",
      "reward: 99.9\n",
      "Episode finished after 91 timesteps\n",
      "--------\n",
      "reward: 99.9\n",
      "Episode finished after 100 timesteps\n",
      "--------\n",
      "reward: 99.9\n",
      "Episode finished after 68 timesteps\n",
      "--------\n",
      "reward: 99.9\n",
      "Episode finished after 95 timesteps\n",
      "--------\n",
      "reward: 99.9\n",
      "Episode finished after 100 timesteps\n",
      "--------\n",
      "reward: 99.9\n",
      "Episode finished after 132 timesteps\n",
      "--------\n",
      "reward: 99.9\n",
      "Episode finished after 94 timesteps\n",
      "--------\n",
      "reward: 99.9\n",
      "Episode finished after 91 timesteps\n",
      "--------\n",
      "reward: 99.9\n",
      "Episode finished after 74 timesteps\n",
      "--------\n",
      "reward: 99.9\n",
      "Episode finished after 102 timesteps\n",
      "--------\n",
      "reward: 99.9\n",
      "Episode finished after 98 timesteps\n",
      "--------\n",
      "reward: 99.9\n",
      "Episode finished after 132 timesteps\n",
      "--------\n",
      "reward: 99.9\n",
      "Episode finished after 68 timesteps\n",
      "--------\n",
      "reward: 99.9\n",
      "Episode finished after 100 timesteps\n",
      "--------\n",
      "reward: 99.9\n",
      "Episode finished after 100 timesteps\n",
      "--------\n",
      "reward: 99.9\n",
      "Episode finished after 68 timesteps\n",
      "--------\n",
      "reward: 99.9\n",
      "Episode finished after 92 timesteps\n",
      "--------\n",
      "reward: 99.9\n",
      "Episode finished after 100 timesteps\n",
      "--------\n",
      "reward: 99.9\n",
      "Episode finished after 91 timesteps\n",
      "--------\n",
      "reward: 99.9\n",
      "Episode finished after 102 timesteps\n",
      "--------\n",
      "reward: 99.9\n",
      "Episode finished after 68 timesteps\n",
      "--------\n",
      "reward: 99.9\n",
      "Episode finished after 96 timesteps\n",
      "--------\n",
      "reward: 99.9\n",
      "Episode finished after 96 timesteps\n",
      "--------\n",
      "reward: 99.9\n",
      "Episode finished after 92 timesteps\n",
      "--------\n",
      "reward: 99.9\n",
      "Episode finished after 98 timesteps\n",
      "--------\n",
      "reward: 99.9\n",
      "Episode finished after 73 timesteps\n",
      "--------\n",
      "reward: 99.9\n",
      "Episode finished after 96 timesteps\n",
      "--------\n",
      "reward: 99.9\n",
      "Episode finished after 68 timesteps\n",
      "--------\n",
      "reward: 99.9\n",
      "Episode finished after 95 timesteps\n",
      "--------\n",
      "reward: 99.9\n",
      "Episode finished after 94 timesteps\n",
      "--------\n",
      "reward: 99.9\n",
      "Episode finished after 98 timesteps\n",
      "--------\n",
      "reward: 99.9\n",
      "Episode finished after 132 timesteps\n",
      "--------\n",
      "reward: 99.9\n",
      "Episode finished after 98 timesteps\n",
      "--------\n",
      "reward: 99.9\n",
      "Episode finished after 68 timesteps\n",
      "--------\n",
      "reward: 99.9\n",
      "Episode finished after 100 timesteps\n",
      "--------\n",
      "reward: 99.9\n",
      "Episode finished after 102 timesteps\n",
      "--------\n",
      "reward: 99.9\n",
      "Episode finished after 100 timesteps\n",
      "--------\n",
      "reward: 99.9\n",
      "Episode finished after 95 timesteps\n",
      "--------\n",
      "reward: 99.9\n",
      "Episode finished after 94 timesteps\n",
      "--------\n",
      "reward: 99.9\n",
      "Episode finished after 132 timesteps\n",
      "--------\n",
      "reward: 99.9\n",
      "Episode finished after 92 timesteps\n",
      "--------\n",
      "reward: 99.9\n",
      "Episode finished after 68 timesteps\n",
      "--------\n",
      "reward: 99.9\n",
      "Episode finished after 143 timesteps\n",
      "--------\n",
      "reward: 99.9\n",
      "Episode finished after 96 timesteps\n",
      "--------\n",
      "reward: 99.9\n",
      "Episode finished after 134 timesteps\n",
      "--------\n",
      "reward: 99.9\n",
      "Episode finished after 92 timesteps\n",
      "--------\n",
      "reward: 99.9\n",
      "Episode finished after 134 timesteps\n",
      "--------\n",
      "reward: 99.9\n",
      "Episode finished after 134 timesteps\n",
      "--------\n",
      "reward: 99.9\n",
      "Episode finished after 100 timesteps\n",
      "--------\n",
      "reward: 99.9\n",
      "Episode finished after 98 timesteps\n",
      "--------\n",
      "reward: 99.9\n",
      "Episode finished after 68 timesteps\n",
      "--------\n",
      "reward: 99.9\n",
      "Episode finished after 92 timesteps\n",
      "--------\n",
      "reward: 99.9\n",
      "Episode finished after 68 timesteps\n",
      "--------\n",
      "reward: 99.9\n",
      "Episode finished after 134 timesteps\n",
      "--------\n",
      "reward: 99.9\n",
      "Episode finished after 68 timesteps\n",
      "--------\n",
      "reward: 99.9\n",
      "Episode finished after 95 timesteps\n",
      "--------\n",
      "reward: 99.9\n",
      "Episode finished after 100 timesteps\n",
      "--------\n"
     ]
    },
    {
     "ename": "KeyboardInterrupt",
     "evalue": "",
     "output_type": "error",
     "traceback": [
      "\u001b[0;31m---------------------------------------------------------------------------\u001b[0m",
      "\u001b[0;31mKeyboardInterrupt\u001b[0m                         Traceback (most recent call last)",
      "\u001b[0;32m<ipython-input-69-ecda3af72bc2>\u001b[0m in \u001b[0;36m<module>\u001b[0;34m()\u001b[0m\n\u001b[1;32m      8\u001b[0m     \u001b[0;32mwhile\u001b[0m \u001b[0mTrue\u001b[0m\u001b[0;34m:\u001b[0m\u001b[0;34m\u001b[0m\u001b[0m\n\u001b[1;32m      9\u001b[0m         \u001b[0mt\u001b[0m\u001b[0;34m+=\u001b[0m\u001b[0;36m1\u001b[0m\u001b[0;34m\u001b[0m\u001b[0m\n\u001b[0;32m---> 10\u001b[0;31m         \u001b[0menv\u001b[0m\u001b[0;34m.\u001b[0m\u001b[0mrender\u001b[0m\u001b[0;34m(\u001b[0m\u001b[0;34m)\u001b[0m\u001b[0;34m\u001b[0m\u001b[0m\n\u001b[0m\u001b[1;32m     11\u001b[0m         \u001b[0maction\u001b[0m \u001b[0;34m=\u001b[0m \u001b[0mget_policy_action\u001b[0m\u001b[0;34m(\u001b[0m\u001b[0menv\u001b[0m\u001b[0;34m.\u001b[0m\u001b[0menv\u001b[0m\u001b[0;34m.\u001b[0m\u001b[0mstate\u001b[0m\u001b[0;34m,\u001b[0m \u001b[0mw_est\u001b[0m\u001b[0;34m,\u001b[0m \u001b[0mbfs\u001b[0m\u001b[0;34m,\u001b[0m \u001b[0menv\u001b[0m\u001b[0;34m,\u001b[0m \u001b[0mmethod\u001b[0m \u001b[0;34m=\u001b[0m \u001b[0mmethod\u001b[0m\u001b[0;34m)\u001b[0m\u001b[0;34m\u001b[0m\u001b[0m\n\u001b[1;32m     12\u001b[0m         \u001b[0;31m#action = env.action_space.sample()\u001b[0m\u001b[0;34m\u001b[0m\u001b[0;34m\u001b[0m\u001b[0m\n",
      "\u001b[0;32m/anaconda/lib/python2.7/site-packages/gym/core.pyc\u001b[0m in \u001b[0;36mrender\u001b[0;34m(self, mode, close)\u001b[0m\n\u001b[1;32m    148\u001b[0m             \u001b[0;32melif\u001b[0m \u001b[0mmode\u001b[0m \u001b[0;32mnot\u001b[0m \u001b[0;32min\u001b[0m \u001b[0mmodes\u001b[0m\u001b[0;34m:\u001b[0m\u001b[0;34m\u001b[0m\u001b[0m\n\u001b[1;32m    149\u001b[0m                 \u001b[0;32mraise\u001b[0m \u001b[0merror\u001b[0m\u001b[0;34m.\u001b[0m\u001b[0mUnsupportedMode\u001b[0m\u001b[0;34m(\u001b[0m\u001b[0;34m'Unsupported rendering mode: {}. (Supported modes for {}: {})'\u001b[0m\u001b[0;34m.\u001b[0m\u001b[0mformat\u001b[0m\u001b[0;34m(\u001b[0m\u001b[0mmode\u001b[0m\u001b[0;34m,\u001b[0m \u001b[0mself\u001b[0m\u001b[0;34m,\u001b[0m \u001b[0mmodes\u001b[0m\u001b[0;34m)\u001b[0m\u001b[0;34m)\u001b[0m\u001b[0;34m\u001b[0m\u001b[0m\n\u001b[0;32m--> 150\u001b[0;31m         \u001b[0;32mreturn\u001b[0m \u001b[0mself\u001b[0m\u001b[0;34m.\u001b[0m\u001b[0m_render\u001b[0m\u001b[0;34m(\u001b[0m\u001b[0mmode\u001b[0m\u001b[0;34m=\u001b[0m\u001b[0mmode\u001b[0m\u001b[0;34m,\u001b[0m \u001b[0mclose\u001b[0m\u001b[0;34m=\u001b[0m\u001b[0mclose\u001b[0m\u001b[0;34m)\u001b[0m\u001b[0;34m\u001b[0m\u001b[0m\n\u001b[0m\u001b[1;32m    151\u001b[0m \u001b[0;34m\u001b[0m\u001b[0m\n\u001b[1;32m    152\u001b[0m     \u001b[0;32mdef\u001b[0m \u001b[0mclose\u001b[0m\u001b[0;34m(\u001b[0m\u001b[0mself\u001b[0m\u001b[0;34m)\u001b[0m\u001b[0;34m:\u001b[0m\u001b[0;34m\u001b[0m\u001b[0m\n",
      "\u001b[0;32m/anaconda/lib/python2.7/site-packages/gym/core.pyc\u001b[0m in \u001b[0;36m_render\u001b[0;34m(self, mode, close)\u001b[0m\n\u001b[1;32m    284\u001b[0m \u001b[0;34m\u001b[0m\u001b[0m\n\u001b[1;32m    285\u001b[0m     \u001b[0;32mdef\u001b[0m \u001b[0m_render\u001b[0m\u001b[0;34m(\u001b[0m\u001b[0mself\u001b[0m\u001b[0;34m,\u001b[0m \u001b[0mmode\u001b[0m\u001b[0;34m=\u001b[0m\u001b[0;34m'human'\u001b[0m\u001b[0;34m,\u001b[0m \u001b[0mclose\u001b[0m\u001b[0;34m=\u001b[0m\u001b[0mFalse\u001b[0m\u001b[0;34m)\u001b[0m\u001b[0;34m:\u001b[0m\u001b[0;34m\u001b[0m\u001b[0m\n\u001b[0;32m--> 286\u001b[0;31m         \u001b[0;32mreturn\u001b[0m \u001b[0mself\u001b[0m\u001b[0;34m.\u001b[0m\u001b[0menv\u001b[0m\u001b[0;34m.\u001b[0m\u001b[0mrender\u001b[0m\u001b[0;34m(\u001b[0m\u001b[0mmode\u001b[0m\u001b[0;34m,\u001b[0m \u001b[0mclose\u001b[0m\u001b[0;34m)\u001b[0m\u001b[0;34m\u001b[0m\u001b[0m\n\u001b[0m\u001b[1;32m    287\u001b[0m \u001b[0;34m\u001b[0m\u001b[0m\n\u001b[1;32m    288\u001b[0m     \u001b[0;32mdef\u001b[0m \u001b[0m_close\u001b[0m\u001b[0;34m(\u001b[0m\u001b[0mself\u001b[0m\u001b[0;34m)\u001b[0m\u001b[0;34m:\u001b[0m\u001b[0;34m\u001b[0m\u001b[0m\n",
      "\u001b[0;32m/anaconda/lib/python2.7/site-packages/gym/core.pyc\u001b[0m in \u001b[0;36mrender\u001b[0;34m(self, mode, close)\u001b[0m\n\u001b[1;32m    148\u001b[0m             \u001b[0;32melif\u001b[0m \u001b[0mmode\u001b[0m \u001b[0;32mnot\u001b[0m \u001b[0;32min\u001b[0m \u001b[0mmodes\u001b[0m\u001b[0;34m:\u001b[0m\u001b[0;34m\u001b[0m\u001b[0m\n\u001b[1;32m    149\u001b[0m                 \u001b[0;32mraise\u001b[0m \u001b[0merror\u001b[0m\u001b[0;34m.\u001b[0m\u001b[0mUnsupportedMode\u001b[0m\u001b[0;34m(\u001b[0m\u001b[0;34m'Unsupported rendering mode: {}. (Supported modes for {}: {})'\u001b[0m\u001b[0;34m.\u001b[0m\u001b[0mformat\u001b[0m\u001b[0;34m(\u001b[0m\u001b[0mmode\u001b[0m\u001b[0;34m,\u001b[0m \u001b[0mself\u001b[0m\u001b[0;34m,\u001b[0m \u001b[0mmodes\u001b[0m\u001b[0;34m)\u001b[0m\u001b[0;34m)\u001b[0m\u001b[0;34m\u001b[0m\u001b[0m\n\u001b[0;32m--> 150\u001b[0;31m         \u001b[0;32mreturn\u001b[0m \u001b[0mself\u001b[0m\u001b[0;34m.\u001b[0m\u001b[0m_render\u001b[0m\u001b[0;34m(\u001b[0m\u001b[0mmode\u001b[0m\u001b[0;34m=\u001b[0m\u001b[0mmode\u001b[0m\u001b[0;34m,\u001b[0m \u001b[0mclose\u001b[0m\u001b[0;34m=\u001b[0m\u001b[0mclose\u001b[0m\u001b[0;34m)\u001b[0m\u001b[0;34m\u001b[0m\u001b[0m\n\u001b[0m\u001b[1;32m    151\u001b[0m \u001b[0;34m\u001b[0m\u001b[0m\n\u001b[1;32m    152\u001b[0m     \u001b[0;32mdef\u001b[0m \u001b[0mclose\u001b[0m\u001b[0;34m(\u001b[0m\u001b[0mself\u001b[0m\u001b[0;34m)\u001b[0m\u001b[0;34m:\u001b[0m\u001b[0;34m\u001b[0m\u001b[0m\n",
      "\u001b[0;32m/anaconda/lib/python2.7/site-packages/gym/envs/classic_control/continuous_mountain_car.pyc\u001b[0m in \u001b[0;36m_render\u001b[0;34m(self, mode, close)\u001b[0m\n\u001b[1;32m    143\u001b[0m         \u001b[0mself\u001b[0m\u001b[0;34m.\u001b[0m\u001b[0mcartrans\u001b[0m\u001b[0;34m.\u001b[0m\u001b[0mset_rotation\u001b[0m\u001b[0;34m(\u001b[0m\u001b[0mmath\u001b[0m\u001b[0;34m.\u001b[0m\u001b[0mcos\u001b[0m\u001b[0;34m(\u001b[0m\u001b[0;36m3\u001b[0m \u001b[0;34m*\u001b[0m \u001b[0mpos\u001b[0m\u001b[0;34m)\u001b[0m\u001b[0;34m)\u001b[0m\u001b[0;34m\u001b[0m\u001b[0m\n\u001b[1;32m    144\u001b[0m \u001b[0;34m\u001b[0m\u001b[0m\n\u001b[0;32m--> 145\u001b[0;31m         \u001b[0;32mreturn\u001b[0m \u001b[0mself\u001b[0m\u001b[0;34m.\u001b[0m\u001b[0mviewer\u001b[0m\u001b[0;34m.\u001b[0m\u001b[0mrender\u001b[0m\u001b[0;34m(\u001b[0m\u001b[0mreturn_rgb_array\u001b[0m \u001b[0;34m=\u001b[0m \u001b[0mmode\u001b[0m\u001b[0;34m==\u001b[0m\u001b[0;34m'rgb_array'\u001b[0m\u001b[0;34m)\u001b[0m\u001b[0;34m\u001b[0m\u001b[0m\n\u001b[0m",
      "\u001b[0;32m/anaconda/lib/python2.7/site-packages/gym/envs/classic_control/rendering.pyc\u001b[0m in \u001b[0;36mrender\u001b[0;34m(self, return_rgb_array)\u001b[0m\n\u001b[1;32m     85\u001b[0m         \u001b[0mself\u001b[0m\u001b[0;34m.\u001b[0m\u001b[0mtransform\u001b[0m\u001b[0;34m.\u001b[0m\u001b[0menable\u001b[0m\u001b[0;34m(\u001b[0m\u001b[0;34m)\u001b[0m\u001b[0;34m\u001b[0m\u001b[0m\n\u001b[1;32m     86\u001b[0m         \u001b[0;32mfor\u001b[0m \u001b[0mgeom\u001b[0m \u001b[0;32min\u001b[0m \u001b[0mself\u001b[0m\u001b[0;34m.\u001b[0m\u001b[0mgeoms\u001b[0m\u001b[0;34m:\u001b[0m\u001b[0;34m\u001b[0m\u001b[0m\n\u001b[0;32m---> 87\u001b[0;31m             \u001b[0mgeom\u001b[0m\u001b[0;34m.\u001b[0m\u001b[0mrender\u001b[0m\u001b[0;34m(\u001b[0m\u001b[0;34m)\u001b[0m\u001b[0;34m\u001b[0m\u001b[0m\n\u001b[0m\u001b[1;32m     88\u001b[0m         \u001b[0;32mfor\u001b[0m \u001b[0mgeom\u001b[0m \u001b[0;32min\u001b[0m \u001b[0mself\u001b[0m\u001b[0;34m.\u001b[0m\u001b[0monetime_geoms\u001b[0m\u001b[0;34m:\u001b[0m\u001b[0;34m\u001b[0m\u001b[0m\n\u001b[1;32m     89\u001b[0m             \u001b[0mgeom\u001b[0m\u001b[0;34m.\u001b[0m\u001b[0mrender\u001b[0m\u001b[0;34m(\u001b[0m\u001b[0;34m)\u001b[0m\u001b[0;34m\u001b[0m\u001b[0m\n",
      "\u001b[0;32m/anaconda/lib/python2.7/site-packages/gym/envs/classic_control/rendering.pyc\u001b[0m in \u001b[0;36mrender\u001b[0;34m(self)\u001b[0m\n\u001b[1;32m    152\u001b[0m         \u001b[0;32mfor\u001b[0m \u001b[0mattr\u001b[0m \u001b[0;32min\u001b[0m \u001b[0mreversed\u001b[0m\u001b[0;34m(\u001b[0m\u001b[0mself\u001b[0m\u001b[0;34m.\u001b[0m\u001b[0mattrs\u001b[0m\u001b[0;34m)\u001b[0m\u001b[0;34m:\u001b[0m\u001b[0;34m\u001b[0m\u001b[0m\n\u001b[1;32m    153\u001b[0m             \u001b[0mattr\u001b[0m\u001b[0;34m.\u001b[0m\u001b[0menable\u001b[0m\u001b[0;34m(\u001b[0m\u001b[0;34m)\u001b[0m\u001b[0;34m\u001b[0m\u001b[0m\n\u001b[0;32m--> 154\u001b[0;31m         \u001b[0mself\u001b[0m\u001b[0;34m.\u001b[0m\u001b[0mrender1\u001b[0m\u001b[0;34m(\u001b[0m\u001b[0;34m)\u001b[0m\u001b[0;34m\u001b[0m\u001b[0m\n\u001b[0m\u001b[1;32m    155\u001b[0m         \u001b[0;32mfor\u001b[0m \u001b[0mattr\u001b[0m \u001b[0;32min\u001b[0m \u001b[0mself\u001b[0m\u001b[0;34m.\u001b[0m\u001b[0mattrs\u001b[0m\u001b[0;34m:\u001b[0m\u001b[0;34m\u001b[0m\u001b[0m\n\u001b[1;32m    156\u001b[0m             \u001b[0mattr\u001b[0m\u001b[0;34m.\u001b[0m\u001b[0mdisable\u001b[0m\u001b[0;34m(\u001b[0m\u001b[0;34m)\u001b[0m\u001b[0;34m\u001b[0m\u001b[0m\n",
      "\u001b[0;32m/anaconda/lib/python2.7/site-packages/gym/envs/classic_control/rendering.pyc\u001b[0m in \u001b[0;36mrender1\u001b[0;34m(self)\u001b[0m\n\u001b[1;32m    274\u001b[0m         \u001b[0mglBegin\u001b[0m\u001b[0;34m(\u001b[0m\u001b[0mGL_LINE_LOOP\u001b[0m \u001b[0;32mif\u001b[0m \u001b[0mself\u001b[0m\u001b[0;34m.\u001b[0m\u001b[0mclose\u001b[0m \u001b[0;32melse\u001b[0m \u001b[0mGL_LINE_STRIP\u001b[0m\u001b[0;34m)\u001b[0m\u001b[0;34m\u001b[0m\u001b[0m\n\u001b[1;32m    275\u001b[0m         \u001b[0;32mfor\u001b[0m \u001b[0mp\u001b[0m \u001b[0;32min\u001b[0m \u001b[0mself\u001b[0m\u001b[0;34m.\u001b[0m\u001b[0mv\u001b[0m\u001b[0;34m:\u001b[0m\u001b[0;34m\u001b[0m\u001b[0m\n\u001b[0;32m--> 276\u001b[0;31m             \u001b[0mglVertex3f\u001b[0m\u001b[0;34m(\u001b[0m\u001b[0mp\u001b[0m\u001b[0;34m[\u001b[0m\u001b[0;36m0\u001b[0m\u001b[0;34m]\u001b[0m\u001b[0;34m,\u001b[0m \u001b[0mp\u001b[0m\u001b[0;34m[\u001b[0m\u001b[0;36m1\u001b[0m\u001b[0;34m]\u001b[0m\u001b[0;34m,\u001b[0m\u001b[0;36m0\u001b[0m\u001b[0;34m)\u001b[0m  \u001b[0;31m# draw each vertex\u001b[0m\u001b[0;34m\u001b[0m\u001b[0m\n\u001b[0m\u001b[1;32m    277\u001b[0m         \u001b[0mglEnd\u001b[0m\u001b[0;34m(\u001b[0m\u001b[0;34m)\u001b[0m\u001b[0;34m\u001b[0m\u001b[0m\n\u001b[1;32m    278\u001b[0m     \u001b[0;32mdef\u001b[0m \u001b[0mset_linewidth\u001b[0m\u001b[0;34m(\u001b[0m\u001b[0mself\u001b[0m\u001b[0;34m,\u001b[0m \u001b[0mx\u001b[0m\u001b[0;34m)\u001b[0m\u001b[0;34m:\u001b[0m\u001b[0;34m\u001b[0m\u001b[0m\n",
      "\u001b[0;32m/anaconda/lib/python2.7/site-packages/pyglet/gl/lib.pyc\u001b[0m in \u001b[0;36merrcheck\u001b[0;34m(result, func, arguments)\u001b[0m\n\u001b[1;32m     94\u001b[0m             \u001b[0;32mprint\u001b[0m \u001b[0mname\u001b[0m\u001b[0;34m\u001b[0m\u001b[0m\n\u001b[1;32m     95\u001b[0m \u001b[0;34m\u001b[0m\u001b[0m\n\u001b[0;32m---> 96\u001b[0;31m     \u001b[0;32mfrom\u001b[0m \u001b[0mpyglet\u001b[0m \u001b[0;32mimport\u001b[0m \u001b[0mgl\u001b[0m\u001b[0;34m\u001b[0m\u001b[0m\n\u001b[0m\u001b[1;32m     97\u001b[0m     \u001b[0mcontext\u001b[0m \u001b[0;34m=\u001b[0m \u001b[0mgl\u001b[0m\u001b[0;34m.\u001b[0m\u001b[0mcurrent_context\u001b[0m\u001b[0;34m\u001b[0m\u001b[0m\n\u001b[1;32m     98\u001b[0m     \u001b[0;32mif\u001b[0m \u001b[0;32mnot\u001b[0m \u001b[0mcontext\u001b[0m\u001b[0;34m:\u001b[0m\u001b[0;34m\u001b[0m\u001b[0m\n",
      "\u001b[0;31mKeyboardInterrupt\u001b[0m: "
     ]
    }
   ],
   "source": [
    "method = \"continuous\"\n",
    "num_steps = []\n",
    "for i_episode in range(100):\n",
    "    observation = env.reset()\n",
    "    print \"--------\"\n",
    "    t = 0\n",
    "    actions = []\n",
    "    while True:\n",
    "        t+=1\n",
    "        env.render()\n",
    "        action = get_policy_action(env.env.state, w_est, bfs, env, method = method)\n",
    "        #action = env.action_space.sample()\n",
    "        #print type(action)\n",
    "        actions.append([action])\n",
    "        if method == \"continuous\":\n",
    "            action = [action]\n",
    "        #print action\n",
    "        observation, reward, done, info = env.step(action)\n",
    "        #print observation\n",
    "        if done:\n",
    "            print \"reward:\",reward\n",
    "            num_steps.append(t)\n",
    "            print(\"Episode finished after {} timesteps\".format(t+1))\n",
    "            break"
   ]
  },
  {
   "cell_type": "code",
   "execution_count": 67,
   "metadata": {},
   "outputs": [
    {
     "data": {
      "text/plain": [
       "[[1.0],\n",
       " [1.0],\n",
       " [1.0],\n",
       " [1.0],\n",
       " [1.0],\n",
       " [1.0],\n",
       " [1.0],\n",
       " [1.0],\n",
       " [1.0],\n",
       " [1.0],\n",
       " [1.0],\n",
       " [1.0],\n",
       " [1.0],\n",
       " [1.0],\n",
       " [1.0],\n",
       " [1.0],\n",
       " [1.0],\n",
       " [1.0],\n",
       " [1.0],\n",
       " [1.0],\n",
       " [1.0],\n",
       " [1.0],\n",
       " [1.0],\n",
       " [1.0],\n",
       " [-1.0],\n",
       " [-1.0],\n",
       " [-1.0],\n",
       " [-1.0],\n",
       " [-1.0],\n",
       " [-1.0],\n",
       " [-1.0],\n",
       " [-1.0],\n",
       " [-1.0],\n",
       " [-1.0],\n",
       " [-1.0],\n",
       " [-1.0],\n",
       " [-1.0],\n",
       " [-1.0],\n",
       " [-1.0],\n",
       " [-1.0],\n",
       " [-1.0],\n",
       " [-1.0],\n",
       " [-1.0],\n",
       " [-1.0],\n",
       " [-1.0],\n",
       " [-1.0],\n",
       " [-1.0],\n",
       " [-1.0],\n",
       " [1.0],\n",
       " [1.0],\n",
       " [1.0],\n",
       " [1.0],\n",
       " [1.0],\n",
       " [1.0],\n",
       " [1.0],\n",
       " [1.0],\n",
       " [1.0],\n",
       " [1.0],\n",
       " [1.0],\n",
       " [1.0],\n",
       " [1.0],\n",
       " [1.0],\n",
       " [1.0],\n",
       " [1.0],\n",
       " [1.0],\n",
       " [1.0],\n",
       " [1.0],\n",
       " [1.0],\n",
       " [1.0],\n",
       " [1.0],\n",
       " [1.0],\n",
       " [1.0],\n",
       " [1.0],\n",
       " [1.0],\n",
       " [1.0],\n",
       " [1.0],\n",
       " [1.0],\n",
       " [1.0],\n",
       " [1.0],\n",
       " [1.0],\n",
       " [1.0],\n",
       " [1.0],\n",
       " [1.0],\n",
       " [1.0],\n",
       " [1.0],\n",
       " [1.0],\n",
       " [1.0],\n",
       " [1.0],\n",
       " [1.0],\n",
       " [1.0],\n",
       " [1.0],\n",
       " [1.0],\n",
       " [1.0],\n",
       " [1.0]]"
      ]
     },
     "execution_count": 67,
     "metadata": {},
     "output_type": "execute_result"
    }
   ],
   "source": [
    "actions"
   ]
  },
  {
   "cell_type": "code",
   "execution_count": null,
   "metadata": {},
   "outputs": [],
   "source": [
    "plt.hist(num_steps)\n",
    "print np.mean(num_steps)"
   ]
  },
  {
   "cell_type": "code",
   "execution_count": null,
   "metadata": {},
   "outputs": [],
   "source": [
    "plt.hist(num_steps)\n",
    "print np.mean(num_steps)"
   ]
  },
  {
   "cell_type": "code",
   "execution_count": null,
   "metadata": {
    "collapsed": true
   },
   "outputs": [],
   "source": [
    "env.action_space.sample()"
   ]
  },
  {
   "cell_type": "code",
   "execution_count": null,
   "metadata": {
    "collapsed": true
   },
   "outputs": [],
   "source": [
    "observation[0]"
   ]
  },
  {
   "cell_type": "markdown",
   "metadata": {
    "collapsed": true
   },
   "source": [
    "# custom pendulum simulation"
   ]
  },
  {
   "cell_type": "code",
   "execution_count": null,
   "metadata": {
    "collapsed": true
   },
   "outputs": [],
   "source": []
  }
 ],
 "metadata": {
  "kernelspec": {
   "display_name": "Python 2",
   "language": "python",
   "name": "python2"
  },
  "language_info": {
   "codemirror_mode": {
    "name": "ipython",
    "version": 2
   },
   "file_extension": ".py",
   "mimetype": "text/x-python",
   "name": "python",
   "nbconvert_exporter": "python",
   "pygments_lexer": "ipython2",
   "version": "2.7.13"
  }
 },
 "nbformat": 4,
 "nbformat_minor": 2
}
