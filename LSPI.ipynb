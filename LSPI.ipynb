{
 "cells": [
  {
   "cell_type": "markdown",
   "metadata": {
    "collapsed": true
   },
   "source": [
    "# This is a notebook for testing my implementation of LSPI"
   ]
  },
  {
   "cell_type": "code",
   "execution_count": 2,
   "metadata": {
    "collapsed": true
   },
   "outputs": [],
   "source": [
    "import gym\n",
    "import numpy as np\n",
    "import matplotlib.pyplot as plt\n",
    "from tqdm import tqdm\n",
    "%matplotlib inline\n",
    "\n",
    "from scipy.optimize import minimize"
   ]
  },
  {
   "cell_type": "code",
   "execution_count": 3,
   "metadata": {},
   "outputs": [
    {
     "data": {
      "text/plain": [
       "array([-0.4143957,  0.       ])"
      ]
     },
     "execution_count": 3,
     "metadata": {},
     "output_type": "execute_result"
    }
   ],
   "source": [
    "#env = gym.make('CartPole-v0')\n",
    "env = gym.make(\"MountainCarContinuous-v0\")\n",
    "#env = gym.make(\"Pendulum-v0\")\n",
    "#env = gym.make(\"NChain-v0\")\n",
    "#env = gym.make(\"Acrobot-v1\")\n",
    "env.reset()"
   ]
  },
  {
   "cell_type": "code",
   "execution_count": null,
   "metadata": {},
   "outputs": [],
   "source": [
    "env.action_space.sample()"
   ]
  },
  {
   "cell_type": "code",
   "execution_count": null,
   "metadata": {},
   "outputs": [],
   "source": [
    "env.observation_space.sample()"
   ]
  },
  {
   "cell_type": "markdown",
   "metadata": {
    "collapsed": true
   },
   "source": [
    "# Implementation"
   ]
  },
  {
   "cell_type": "code",
   "execution_count": 90,
   "metadata": {
    "collapsed": true
   },
   "outputs": [],
   "source": [
    "def LSPI(basis_functions, gamma, epsilon, w, env, method = \"discrete\"):\n",
    "    '''\n",
    "    Compute the parameters of the policy, w, using the LSPI algorithm.\n",
    "    \n",
    "    Inputs:\n",
    "    sample: list of tuples of the form (s,a,r,s')\n",
    "    basis_functions: list of basis functions\n",
    "    gamma: float, discount factor\n",
    "    epsilon: float, convergence threshold\n",
    "    w: intial policy parameter vector\n",
    "    \n",
    "    Outputs:\n",
    "    w: the converged policy paramters\n",
    "    '''\n",
    "    w0 = []\n",
    "    # for mountain car, use 1000 trials with 20 timesteps\n",
    "    samples = generate_samples(env, 1000, 20)\n",
    "    #while True:\n",
    "    for i in tqdm(range(100)):\n",
    "        w_prev = w\n",
    "        #w = LSTDQ(samples, basis_functions, gamma, w, env)\n",
    "        w = LSTDQ_OPT(samples, basis_functions, gamma, w, env, method = method)\n",
    "        \n",
    "        \n",
    "        if converged(w, w_prev, epsilon):\n",
    "            break \n",
    "        else:\n",
    "            w_prev = w\n",
    "        w0.append(w[0])\n",
    "        print w[0]\n",
    "    return w, w0\n",
    "\n",
    "def converged(w, w_prev, epsilon):\n",
    "    '''\n",
    "    Determines if the policy parameters have converged based\n",
    "    on whether or not the norm of the difference of w\n",
    "    is less than the threshold epsilon.\n",
    "    \n",
    "    Inputs:\n",
    "    w: a policy parameter vector\n",
    "    w_prev: the policy parameter vetor from a previous iteration.\n",
    "    epsilon: float, convergence threshold\n",
    "    '''\n",
    "    return np.linalg.norm(w - w_prev) < epsilon\n",
    "\n",
    "def LSTDQ(samples, basis_functions, gamma, w, env, method=\"discrete\"):\n",
    "    '''\n",
    "    Simple version of LSTDQ\n",
    "    '''\n",
    "    k = len(basis_functions)\n",
    "    #A = np.zeros((k,k)), this might not have an inverse, use the next line instead\n",
    "    A = np.identity(k) * 0.01\n",
    "    b = np.zeros(k)\n",
    "    \n",
    "    #samples[np.random.choice(len(samples), 100, replace=False)]\n",
    "    \n",
    "    for s, a, r, sp in samples:\n",
    "        phi = compute_phi(s,a, basis_functions)\n",
    "        phi_p = compute_phi(sp, get_policy_action(sp, w, basis_functions, env, method), basis_functions)\n",
    "\n",
    "        A += np.outer(phi, (phi - gamma*phi_p))\n",
    "        b = b + phi*r\n",
    "    \n",
    "    \n",
    "    w = np.dot(np.linalg.inv(A),b)\n",
    "    return w\n",
    "    \n",
    "    \n",
    "\n",
    "    \n",
    "    \n",
    "def LSTDQ_OPT(samples, basis_functions, gamma, w, env, sigma=0.1, method = \"discrete\" ):\n",
    "    '''\n",
    "    A faster version of LSTDQ. Computes an approximation of the policy parameters based\n",
    "    on the LSTDQ-OPT algorithm presented in the paper.\n",
    "    \n",
    "    Inputs:\n",
    "    sample: list of tuples of the form (s,a,r,s')\n",
    "    basis_functions: list of basis functions\n",
    "    gamma: float, discount factor\n",
    "    epsilon: float, convergence threshold\n",
    "    w: intial policy parameter vector\n",
    "    \n",
    "    sigma: small positive float.\n",
    "    '''\n",
    "    k = len(basis_functions)\n",
    "    B = np.identity(k) * float(1/sigma)\n",
    "    b = np.zeros(k)\n",
    "    \n",
    "    for s, a, r, sp in samples:\n",
    "        phi = compute_phi(s,a, basis_functions)\n",
    "        phi_p = compute_phi(sp, get_policy_action(sp, w, basis_functions, env, method), basis_functions)\n",
    "\n",
    "        # Some computations that can be reused in the computation\n",
    "        Bphi = np.dot(B, phi)\n",
    "        phi_t =  (phi - gamma*phi_p).T\n",
    "        \n",
    "\n",
    "        top = np.dot(np.outer(Bphi, phi_t), B)\n",
    "        bottom = 1 + np.dot(phi_t, Bphi)\n",
    "        B = B - top/bottom\n",
    "        \n",
    "        b = b + phi*r\n",
    "    \n",
    "    w = np.dot(B,b)\n",
    "        \n",
    "        \n",
    "    return w\n",
    "       \n",
    "\n",
    "def compute_phi(s,a, basis_functions):\n",
    "    '''\n",
    "    Computes the vector ϕ(s,a) according to the basis function ϕ_1...ϕ_k\n",
    "    \n",
    "    Inputs:\n",
    "    s: state\n",
    "    a: action\n",
    "    basis_functions: list of basis functions that operate on s and a\n",
    "    \n",
    "    Outputs:\n",
    "    ϕ(s,a), a vector where each entry is the result of one of the basis functions.\n",
    "    '''\n",
    "\n",
    "    phi= np.array([bf(s,a) for bf in basis_functions])\n",
    "    return phi\n",
    "    \n",
    "    \n",
    "def get_policy_action(s,w, basis_functions, env, method = \"discrete\"):\n",
    "    '''\n",
    "    Computes the best action for the current parameterized policy \n",
    "    according to the provided method (discrete, continuous, or continuous-discretized)\n",
    "    \n",
    "    Inputs:\n",
    "    s: state\n",
    "    w: parameters for policy\n",
    "    basis_functions: list of basis functions that operate on states and actions\n",
    "    env: gym environment\n",
    "    method: string, \n",
    "    '''\n",
    "    if method == \"discrete\":\n",
    "        return get_policy_action_discrete(s,w,basis_functions,env)\n",
    "    if method == \"continuous\":\n",
    "        return get_policy_actions_continuous(s, w, basis_functions, env)\n",
    "    if method == \"continuous-discretized\":\n",
    "        return get_policy_actions_continuous_discretized(s, w, basis_functions, env, n_discretizations=10)\n",
    "    \n",
    "def get_policy_action_discrete(s, w, basis_functions, env):\n",
    "    '''\n",
    "    For discrete action spaces. Given a parameterization for the policy,\n",
    "    reconstruct the policy and querery it to get \n",
    "    the optimal action for state s. That is,\n",
    "    the argmax over actions of ϕ(s,a).w\n",
    "    \n",
    "    Inputs:\n",
    "    s: state\n",
    "    w: policy parameters\n",
    "    basis_functions: the basis functions that are used in the model\n",
    "    \n",
    "    Outputs:\n",
    "    action a that the policy says is best\n",
    "    '''\n",
    "    a_max = None\n",
    "    max_score = float(\"-inf\")\n",
    "    \n",
    "#    action_space = [0,1,2] # for cart pole, this is [0,1]\n",
    "    action_space = [0,1]\n",
    "    # Search action space for most valuable action\n",
    " \n",
    "    #TODO:  use sympy for grad desc\n",
    "    for a in action_space:\n",
    "        score = np.dot(compute_phi(s,a, basis_functions), w)\n",
    "        # update if we found something better\n",
    "        if score > max_score:\n",
    "            max_score = score\n",
    "            a_max = a\n",
    "\n",
    "    return a_max    \n",
    "    \n",
    "    \n",
    "def get_policy_actions_continuous_discretized(s, w, basis_functions, env, n_discretizations=10):\n",
    "    '''\n",
    "    For continuous action spaces, discretize the space and\n",
    "    given a parameterization for the policy, reconstruct the policy and querery it to get \n",
    "    the optimal action for state s. That is,\n",
    "    the argmax over actions of ϕ(s,a).w\n",
    "    \n",
    "    Inputs:\n",
    "    s: stateget_policy_action\n",
    "    w: policy parameters\n",
    "    basis_functions: the basis functions that are used in the model\n",
    "    n_discretizations: the number of chunks to split the continuous space into\n",
    "       \n",
    "    \n",
    "    Outputs:\n",
    "    action a that the policy says is best\n",
    "    '''\n",
    "    \n",
    "    a_max = None\n",
    "    max_score = float(\"-inf\")\n",
    "    \n",
    "    # Discretize the continuous space into n_discretizations chunks\n",
    "    action_space = np.linspace(env.action_space.low[0], env.action_space.high[0], n_discretizations)\n",
    "\n",
    "    for a in action_space:\n",
    "        score = np.dot(compute_phi(s, a, basis_functions), w)\n",
    "       \n",
    "        # update if we found something better\n",
    "        if score > max_score:\n",
    "            max_score = score\n",
    "            a_max = a\n",
    "            \n",
    "    return a_max\n",
    "\n",
    "\n",
    "\n",
    "def get_policy_actions_continuous(s,w,basis_functions, env):\n",
    "    '''\n",
    "    For continuous action spaces. Given a parameterization for the policy,\n",
    "    reconstruct the policy and querery it to get \n",
    "    the optimal action for state s. That is,\n",
    "    the argmax over actions of ϕ(s,a).w\n",
    "    \n",
    "    Inputs:\n",
    "    s: stateget_policy_action\n",
    "    w: policy parameters\n",
    "    basis_functions: the basis functions that are used in the model\n",
    "       \n",
    "    \n",
    "    Outputs:\n",
    "    action a that the policy says is best\n",
    "    '''\n",
    "    f = lambda a: np.dot(compute_phi(s, a, basis_functions), w)\n",
    "    x0 = 0\n",
    "    #mountain_car_bounds = []\n",
    "    result = minimize(f, x0, method='L-BFGS-B', options={'xtol': 1e-8, 'disp': True}, bounds = [(-1,1)])\n",
    "    return result.x\n",
    "\n",
    "def get_cartpole_basis_functions_v1():\n",
    "    bf1 = lambda s,a:a\n",
    "    bf2 = lambda s,a:s[0]\n",
    "    bf3 = lambda s,a:s[1]\n",
    "    bf4 = lambda s,a:s[2]\n",
    "    bf5 = lambda s,a:s[3]\n",
    "    bfs = [bf1,bf2,bf3,bf4,bf5]\n",
    "    return bfs\n",
    "   \n",
    "def get_cartpole_basis_functions_v2():\n",
    "    '''\n",
    "    Returns a list of basis functions that seem \n",
    "    to work well for the simplified (no singularity, starting above the horizon)\n",
    "    cartpole problem.\n",
    "    \n",
    "    Note: this one seems to work the best so far.\n",
    "    '''\n",
    "    s1 = np.array([1,1,1,1])\n",
    "    s2 = np.array([0,0,0,0])\n",
    "    s3 = np.array([1,0,1,0])\n",
    "\n",
    "    bf1 = lambda s,a: 1\n",
    "\n",
    "    bf2 = lambda s,a: int(a==0)*np.exp( - np.linalg.norm(s-s1)/2.0)\n",
    "    bf3 = lambda s,a: int(a==1)*np.exp( - np.linalg.norm(s-s1)/2.0)\n",
    "\n",
    "    bf4 = lambda s,a: int(a==0)*np.exp( - np.linalg.norm(s-s2)/2.0)\n",
    "    bf5 = lambda s,a: int(a==1)*np.exp( - np.linalg.norm(s-s2)/2.0)\n",
    "\n",
    "    bf6 = lambda s,a: int(a==0)*np.exp( - np.linalg.norm(s-s3)/2.0)\n",
    "    bf7 = lambda s,a: int(a==1)*np.exp( - np.linalg.norm(s-s3)/2.0)\n",
    "    \n",
    "    \n",
    "    bfs = [bf1,bf2, bf3, bf4, bf5, bf6, bf7]\n",
    "    \n",
    "    return bfs\n",
    "\n",
    "\n",
    "def get_cartpole_basis_functions_v3():\n",
    "\n",
    "    s1 = np.array([-1,-1,0,0])\n",
    "    s2 = np.array([-0.5,-1,0,0])\n",
    "    s3 = np.array([-0.1,-1,0,-0.5])\n",
    "    s4 = np.array([0,0,0,0])\n",
    "    s5 = np.array([0.1,1,0,0])\n",
    "    s6 = np.array([0.5,0.5,0,-0.5])\n",
    "    s7 = np.array([1,0,0,0])\n",
    "\n",
    "    bf1 = lambda s,a: 1\n",
    "\n",
    "    bf2 = lambda s,a: int(a==0)*np.exp( - np.linalg.norm(s-s1)/2.0)\n",
    "    bf3 = lambda s,a: int(a==1)*np.exp( - np.linalg.norm(s-s1)/2.0)\n",
    "\n",
    "    bf4 = lambda s,a: int(a==0)*np.exp( - np.linalg.norm(s-s2)/2.0)\n",
    "    bf5 = lambda s,a: int(a==1)*np.exp( - np.linalg.norm(s-s2)/2.0)\n",
    "\n",
    "    bf6 = lambda s,a: int(a==0)*np.exp( - np.linalg.norm(s-s3)/2.0)\n",
    "    bf7 = lambda s,a: int(a==1)*np.exp( - np.linalg.norm(s-s3)/2.0)\n",
    "    \n",
    "    bf8 = lambda s,a: int(a==0)*np.exp( - np.linalg.norm(s-s4)/2.0)\n",
    "    bf9 = lambda s,a: int(a==1)*np.exp( - np.linalg.norm(s-s4)/2.0)\n",
    "    \n",
    "    bf10 = lambda s,a: int(a==0)*np.exp( - np.linalg.norm(s-s5)/2.0)\n",
    "    bf11 = lambda s,a: int(a==1)*np.exp( - np.linalg.norm(s-s5)/2.0)\n",
    "    \n",
    "    bf12 = lambda s,a: int(a==0)*np.exp( - np.linalg.norm(s-s6)/2.0)\n",
    "    bf13 = lambda s,a: int(a==1)*np.exp( - np.linalg.norm(s-s6)/2.0)\n",
    "    \n",
    "    bf14 = lambda s,a: int(a==0)*np.exp( - np.linalg.norm(s-s7)/2.0)\n",
    "    bf15 = lambda s,a: int(a==1)*np.exp( - np.linalg.norm(s-s7)/2.0)\n",
    "\n",
    "    bfs = [bf1,bf2,bf3,bf4, bf5, bf6, bf7, bf8, bf9, bf10, bf11, bf12, bf13, bf14, bf15]\n",
    "    return bfs\n",
    "    \n",
    "    \n",
    "def get_cartpole_basis_functions_v4():\n",
    "    bf1 = lambda s,a: 1\n",
    "    bf2 = lambda s,a: a\n",
    "    bf3 = lambda s,a: int(a==0)*s[0]\n",
    "    bf4 = lambda s,a: int(a==0)*s[1]\n",
    "    bf5 = lambda s,a: int(a==0)*s[2]\n",
    "    bf6 = lambda s,a: int(a==0)*s[3]\n",
    "    bf7 = lambda s,a: int(a==1)*s[0]\n",
    "    bf8 = lambda s,a: int(a==1)*s[1]\n",
    "    bf9 = lambda s,a: int(a==1)*s[2]\n",
    "    bf10 = lambda s,a: int(a==1)*s[3]\n",
    "    return [bf1,bf2,bf3,bf4,bf5, bf6, bf7, bf8, bf8, bf10]\n",
    "\n",
    "    \n",
    "def get_continuous_mt_car_basis_functions():\n",
    "    '''\n",
    "    Define some basis functions and return them in a list\n",
    "    '''\n",
    "\n",
    "    bf1 = lambda s,a: 1\n",
    "    bf2 = lambda s,a: s[0]\n",
    "    bf3 = lambda s,a: a\n",
    "    bf4 = lambda s,a: a*s[0]*s[0]\n",
    "    bf5 = lambda s,a: a*s[0]*s[0]*s[0]\n",
    "    bf6 = lambda s,a: a*s[1]\n",
    "    bf7 = lambda s,a: a*s[1]*s[1]\n",
    "    bf8 = lambda s,a: a*s[1]*s[1]*s[1]\n",
    "    bf9 = lambda s,a: a*s[0]*s[1]\n",
    "    bf10 = lambda s,a: a*s[0]*s[0]*s[1]*s[1]\n",
    "\n",
    "    return [bf1,bf2,bf3,bf4,bf5,bf6,bf7,bf8,bf9,bf10]\n",
    "\n",
    "def get_non_linear_mt_car_basis_functions():\n",
    "    '''\n",
    "    Define some basis functions and return them in a list\n",
    "    '''\n",
    "\n",
    "    bf1 = lambda s,a: 1\n",
    "    bf2 = lambda s,a: s[0]\n",
    "    bf3 = lambda s,a: a\n",
    "    bf4 = lambda s,a: (a**5 + a**2 -a)*s[0]*s[0]\n",
    "    bf5 = lambda s,a: (a**5 + a**2 -a)*s[0]*s[0]*s[0]\n",
    "    bf6 = lambda s,a: (a**5 + a**2 -a)*s[1]\n",
    "    bf7 = lambda s,a: (a**5 + a**2 -a)*s[1]*s[1]\n",
    "    bf8 = lambda s,a: (a**5 + a**2 -a)*s[1]*s[1]*s[1]\n",
    "    bf9 = lambda s,a: (a**5 + a**2 -a)*s[0]*s[1]\n",
    "    bf10 = lambda s,a: (a**5 + a**2 -a)*s[0]*s[0]*s[1]*s[1]\n",
    "\n",
    "    return [bf1,bf2,bf3,bf4,bf5,bf6,bf7,bf8,bf9,bf10]\n",
    "\n",
    "\n",
    "def quadratic(i,j,a_ind,a,s):\n",
    "    return int (a == a_ind)*s[i]*s[j]\n",
    "\n",
    "def get_double_pend_features():\n",
    "    \n",
    "    bfs = []\n",
    "    indices = [0,1,2]\n",
    "    for a_ind in [0,1,2]:\n",
    "        for i in range(3):\n",
    "            for j in range(3):\n",
    "\n",
    "\n",
    "                f = lambda s,a,i=i,j=j, a_ind=a_ind: quadratic(i,j,a_ind, a,s)\n",
    "                bfs.append(f)\n",
    "    return bfs\n",
    "    \n",
    "def generate_samples(env, n_samples, n_steps=100):\n",
    "    samples = []\n",
    "    print env.reset()\n",
    "    for i in range(n_samples):\n",
    "        env.reset()\n",
    "        for j in range(n_steps):\n",
    "            #s = list(env.env.state)\n",
    "            s= env.env.state\n",
    "            a = env.action_space.sample()\n",
    "            \n",
    "            sp,r, _,_ = env.step(a)\n",
    "            \n",
    "            sample = (s, a, r, sp)\n",
    "            samples.append(sample)\n",
    "\n",
    "    return np.array(samples)\n",
    "    "
   ]
  },
  {
   "cell_type": "code",
   "execution_count": 91,
   "metadata": {},
   "outputs": [
    {
     "name": "stdout",
     "output_type": "stream",
     "text": [
      "[-0.50189851  0.        ]\n"
     ]
    },
    {
     "name": "stderr",
     "output_type": "stream",
     "text": [
      "\n",
      "\n",
      "\n",
      "\n",
      "\n",
      "\n",
      "\n",
      "\n",
      "\n",
      "\n",
      "\n",
      "\n",
      "  0%|          | 0/100 [00:00<?, ?it/s]\u001b[A\u001b[A\u001b[A\u001b[A\u001b[A\u001b[A\u001b[A\u001b[A\u001b[A\u001b[A\u001b[A\u001b[A/anaconda/lib/python2.7/site-packages/ipykernel_launcher.py:235: OptimizeWarning: Unknown solver options: xtol\n",
      "\n",
      "\n",
      "\n",
      "\n",
      "\n",
      "\n",
      "\n",
      "\n",
      "\n",
      "\n",
      "\n",
      "\u001b[A\u001b[A\u001b[A\u001b[A\u001b[A\u001b[A\u001b[A\u001b[A\u001b[A\u001b[A\u001b[A\n",
      "\n",
      "\n",
      "\n",
      "\n",
      "\n",
      "\n",
      "\n",
      "\n",
      "\n",
      "\n",
      "\n",
      "  1%|          | 1/100 [00:13<22:24, 13.58s/it]"
     ]
    },
    {
     "name": "stdout",
     "output_type": "stream",
     "text": [
      "-0.306826083579\n"
     ]
    },
    {
     "name": "stderr",
     "output_type": "stream",
     "text": [
      "\u001b[A\u001b[A\u001b[A\u001b[A\u001b[A\u001b[A\u001b[A\u001b[A\u001b[A\u001b[A\u001b[A\u001b[A\n",
      "\n",
      "\n",
      "\n",
      "\n",
      "\n",
      "\n",
      "\n",
      "\n",
      "\n",
      "\n",
      "\n",
      "  2%|▏         | 2/100 [02:24<1:19:39, 48.77s/it]"
     ]
    },
    {
     "name": "stdout",
     "output_type": "stream",
     "text": [
      "-0.891262131788\n"
     ]
    },
    {
     "name": "stderr",
     "output_type": "stream",
     "text": [
      "\u001b[A\u001b[A\u001b[A\u001b[A\u001b[A\u001b[A\u001b[A\u001b[A\u001b[A\u001b[A\u001b[A\u001b[A"
     ]
    },
    {
     "name": "stdout",
     "output_type": "stream",
     "text": [
      "[ -8.92043845e-01   4.70597631e-01  -4.04382734e-02  -7.01970863e-01\n",
      "  -8.20422584e-01   6.17042487e-01  -2.67539412e-03   3.70708135e-05\n",
      "  -3.07595949e-01  -6.19787326e-04]\n"
     ]
    }
   ],
   "source": [
    "#bfs = get_cartpole_basis_functions_v2()\n",
    "#bfs = get_double_pend_features()\n",
    "#bfs = get_continuous_mt_car_basis_functions()\n",
    "bfs = get_non_linear_mt_car_basis_functions()\n",
    "gamma = 0.95\n",
    "epsilon = 0.01\n",
    "k = len(bfs) # the number of basis functions will be the size of parameter vector w\n",
    "\n",
    "w = np.zeros(k)\n",
    "w_est, w0 = LSPI(bfs, gamma, epsilon, w, env, method = \"continuous\")\n",
    "print w_est\n",
    "\n"
   ]
  },
  {
   "cell_type": "code",
   "execution_count": null,
   "metadata": {},
   "outputs": [
    {
     "name": "stdout",
     "output_type": "stream",
     "text": [
      "--------\n"
     ]
    },
    {
     "name": "stderr",
     "output_type": "stream",
     "text": [
      "/anaconda/lib/python2.7/site-packages/ipykernel_launcher.py:235: OptimizeWarning: Unknown solver options: xtol\n"
     ]
    },
    {
     "name": "stdout",
     "output_type": "stream",
     "text": [
      "reward: 99.9300511185\n",
      "Episode finished after 217 timesteps\n",
      "--------\n",
      "reward: 99.9304054133\n",
      "Episode finished after 247 timesteps\n",
      "--------\n",
      "reward: 99.9298673892\n",
      "Episode finished after 168 timesteps\n",
      "--------\n",
      "reward: 99.9297468068\n",
      "Episode finished after 233 timesteps\n",
      "--------\n",
      "reward: 99.9300511185\n",
      "Episode finished after 218 timesteps\n",
      "--------\n",
      "reward: 99.9300511185\n",
      "Episode finished after 218 timesteps\n",
      "--------\n",
      "reward: 99.9300511185\n",
      "Episode finished after 167 timesteps\n",
      "--------\n",
      "reward: 99.9300511185\n",
      "Episode finished after 165 timesteps\n",
      "--------\n",
      "reward: 99.9300511185\n",
      "Episode finished after 238 timesteps\n",
      "--------\n",
      "reward: 99.9297757843\n",
      "Episode finished after 166 timesteps\n",
      "--------\n",
      "reward: 99.9297211327\n",
      "Episode finished after 130 timesteps\n",
      "--------\n",
      "reward: 99.9300511185\n",
      "Episode finished after 166 timesteps\n",
      "--------\n",
      "reward: 99.9298423685\n",
      "Episode finished after 166 timesteps\n",
      "--------\n",
      "reward: 99.9299017234\n",
      "Episode finished after 166 timesteps\n",
      "--------\n",
      "reward: 99.9300511185\n",
      "Episode finished after 167 timesteps\n",
      "--------\n",
      "reward: 99.9300511185\n",
      "Episode finished after 221 timesteps\n",
      "--------\n",
      "reward: 99.9298469554\n",
      "Episode finished after 166 timesteps\n",
      "--------\n",
      "reward: 99.9300511185\n",
      "Episode finished after 218 timesteps\n",
      "--------\n",
      "reward: 99.9300511185\n",
      "Episode finished after 218 timesteps\n",
      "--------\n"
     ]
    }
   ],
   "source": [
    "method = \"continuous\"\n",
    "num_steps = []\n",
    "for i_episode in range(100):\n",
    "    observation = env.reset()\n",
    "    print \"--------\"\n",
    "    t = 0\n",
    "    actions = []\n",
    "    while True:\n",
    "        t+=1\n",
    "        env.render()\n",
    "        action = get_policy_action(env.env.state, w_est, bfs, env, method = method)\n",
    "        #action = env.action_space.sample()\n",
    "        #print type(action)\n",
    "        #actions.append([action])\n",
    "        if method == \"continuous\":\n",
    "            action = [action[0]]\n",
    "        #print action\n",
    "        observation, reward, done, info = env.step(action)\n",
    "        #print observation\n",
    "        if done:\n",
    "            print \"reward:\",reward\n",
    "            num_steps.append(t)\n",
    "            print(\"Episode finished after {} timesteps\".format(t+1))\n",
    "            break"
   ]
  },
  {
   "cell_type": "markdown",
   "metadata": {
    "collapsed": true
   },
   "source": [
    "# Function Optimization"
   ]
  },
  {
   "cell_type": "code",
   "execution_count": null,
   "metadata": {
    "collapsed": true
   },
   "outputs": [],
   "source": [
    "env.reward_range"
   ]
  },
  {
   "cell_type": "code",
   "execution_count": null,
   "metadata": {
    "collapsed": true
   },
   "outputs": [],
   "source": [
    "def fun(x):\n",
    "    return (x+3)*(x+3)"
   ]
  },
  {
   "cell_type": "code",
   "execution_count": null,
   "metadata": {
    "collapsed": true
   },
   "outputs": [],
   "source": [
    "x0 = 0\n",
    "result = minimize(f, x0, method='L-BFGS-B', options={'xtol': 1e-8, 'disp': True}, bounds = [(-1,1)])"
   ]
  },
  {
   "cell_type": "code",
   "execution_count": null,
   "metadata": {
    "collapsed": true
   },
   "outputs": [],
   "source": [
    "f = lambda a: np.dot(compute_phi(observation, a, get_continuous_mt_car_basis_functions()), w_est)"
   ]
  },
  {
   "cell_type": "code",
   "execution_count": null,
   "metadata": {
    "collapsed": true
   },
   "outputs": [],
   "source": [
    "f(0)"
   ]
  },
  {
   "cell_type": "code",
   "execution_count": 15,
   "metadata": {},
   "outputs": [
    {
     "data": {
      "text/plain": [
       "array([ 1.])"
      ]
     },
     "execution_count": 15,
     "metadata": {},
     "output_type": "execute_result"
    }
   ],
   "source": [
    "env.action_space.high"
   ]
  },
  {
   "cell_type": "code",
   "execution_count": null,
   "metadata": {
    "collapsed": true
   },
   "outputs": [],
   "source": [
    "env.action_space.n"
   ]
  },
  {
   "cell_type": "markdown",
   "metadata": {
    "collapsed": true
   },
   "source": [
    "# Function generation"
   ]
  },
  {
   "cell_type": "code",
   "execution_count": null,
   "metadata": {
    "collapsed": true
   },
   "outputs": [],
   "source": [
    "def freeze(i,a,s):\n",
    "    return s[i]\n",
    "    \n",
    "    \n",
    "fs = []\n",
    "indices = [0,1,2]\n",
    "for i in range(3):\n",
    "    \n",
    "    f = lambda s,a,i = i: freeze(i,a,s)\n",
    "    fs.append(f)"
   ]
  },
  {
   "cell_type": "code",
   "execution_count": null,
   "metadata": {
    "collapsed": true
   },
   "outputs": [],
   "source": []
  },
  {
   "cell_type": "code",
   "execution_count": 86,
   "metadata": {},
   "outputs": [
    {
     "data": {
      "text/plain": [
       "[<matplotlib.lines.Line2D at 0x117d5ed90>]"
      ]
     },
     "execution_count": 86,
     "metadata": {},
     "output_type": "execute_result"
    },
    {
     "data": {
      "image/png": "[encoded data removed]",
      "text/plain": [
       "<matplotlib.figure.Figure at 0x117c81890>"
      ]
     },
     "metadata": {},
     "output_type": "display_data"
    }
   ],
   "source": [
    "f = lambda x: (0.5*x**3) - (0.1*(x-1)**3)\n",
    "X = np.linspace(-1,1, 100)\n",
    "plt.plot(X,f(X))"
   ]
  },
  {
   "cell_type": "code",
   "execution_count": null,
   "metadata": {
    "collapsed": true
   },
   "outputs": [],
   "source": [
    "(0.5*a**3) - (0.1*(a-1)**3)"
   ]
  },
  {
   "cell_type": "code",
   "execution_count": null,
   "metadata": {
    "collapsed": true
   },
   "outputs": [],
   "source": []
  }
 ],
 "metadata": {
  "kernelspec": {
   "display_name": "Python 2",
   "language": "python",
   "name": "python2"
  },
  "language_info": {
   "codemirror_mode": {
    "name": "ipython",
    "version": 2
   },
   "file_extension": ".py",
   "mimetype": "text/x-python",
   "name": "python",
   "nbconvert_exporter": "python",
   "pygments_lexer": "ipython2",
   "version": "2.7.13"
  }
 },
 "nbformat": 4,
 "nbformat_minor": 2
}
